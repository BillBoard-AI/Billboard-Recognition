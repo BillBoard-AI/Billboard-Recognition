{
  "nbformat": 4,
  "nbformat_minor": 0,
  "metadata": {
    "kernelspec": {
      "display_name": "Python 3",
      "language": "python",
      "name": "python3"
    },
    "language_info": {
      "codemirror_mode": {
        "name": "ipython",
        "version": 3
      },
      "file_extension": ".py",
      "mimetype": "text/x-python",
      "name": "python",
      "nbconvert_exporter": "python",
      "pygments_lexer": "ipython3",
      "version": "3.6.9"
    },
    "colab": {
      "name": "Billboard .ipynb",
      "provenance": [],
      "collapsed_sections": [
        "sVXnNI8NCooy",
        "5Sz5c-GbCoo0",
        "t-7VaJrqCoo2",
        "vTAxT230Coo7"
      ]
    },
    "accelerator": "GPU",
    "widgets": {
      "application/vnd.jupyter.widget-state+json": {
        "52e222a129304d89908e803b6278dcce": {
          "model_module": "@jupyter-widgets/controls",
          "model_name": "HBoxModel",
          "model_module_version": "1.5.0",
          "state": {
            "_view_name": "HBoxView",
            "_dom_classes": [],
            "_model_name": "HBoxModel",
            "_view_module": "@jupyter-widgets/controls",
            "_model_module_version": "1.5.0",
            "_view_count": null,
            "_view_module_version": "1.5.0",
            "box_style": "",
            "layout": "IPY_MODEL_4edeb03c71e74f87a1bf41f9438a5c72",
            "_model_module": "@jupyter-widgets/controls",
            "children": [
              "IPY_MODEL_2fc32abc529e4fd39d67e90062ef6273",
              "IPY_MODEL_2801943025d9461dad18e1f8437518f6",
              "IPY_MODEL_8416c9c39134415b97e07095329bbbf2"
            ]
          }
        },
        "4edeb03c71e74f87a1bf41f9438a5c72": {
          "model_module": "@jupyter-widgets/base",
          "model_name": "LayoutModel",
          "model_module_version": "1.2.0",
          "state": {
            "_view_name": "LayoutView",
            "grid_template_rows": null,
            "right": null,
            "justify_content": null,
            "_view_module": "@jupyter-widgets/base",
            "overflow": null,
            "_model_module_version": "1.2.0",
            "_view_count": null,
            "flex_flow": null,
            "width": null,
            "min_width": null,
            "border": null,
            "align_items": null,
            "bottom": null,
            "_model_module": "@jupyter-widgets/base",
            "top": null,
            "grid_column": null,
            "overflow_y": null,
            "overflow_x": null,
            "grid_auto_flow": null,
            "grid_area": null,
            "grid_template_columns": null,
            "flex": null,
            "_model_name": "LayoutModel",
            "justify_items": null,
            "grid_row": null,
            "max_height": null,
            "align_content": null,
            "visibility": null,
            "align_self": null,
            "height": null,
            "min_height": null,
            "padding": null,
            "grid_auto_rows": null,
            "grid_gap": null,
            "max_width": null,
            "order": null,
            "_view_module_version": "1.2.0",
            "grid_template_areas": null,
            "object_position": null,
            "object_fit": null,
            "grid_auto_columns": null,
            "margin": null,
            "display": null,
            "left": null
          }
        },
        "2fc32abc529e4fd39d67e90062ef6273": {
          "model_module": "@jupyter-widgets/controls",
          "model_name": "HTMLModel",
          "model_module_version": "1.5.0",
          "state": {
            "_view_name": "HTMLView",
            "style": "IPY_MODEL_bdee448c2de24f059538f9927f065cc5",
            "_dom_classes": [],
            "description": "",
            "_model_name": "HTMLModel",
            "placeholder": "​",
            "_view_module": "@jupyter-widgets/controls",
            "_model_module_version": "1.5.0",
            "value": "100%",
            "_view_count": null,
            "_view_module_version": "1.5.0",
            "description_tooltip": null,
            "_model_module": "@jupyter-widgets/controls",
            "layout": "IPY_MODEL_5cd32481a391416aa7e8313570981670"
          }
        },
        "2801943025d9461dad18e1f8437518f6": {
          "model_module": "@jupyter-widgets/controls",
          "model_name": "FloatProgressModel",
          "model_module_version": "1.5.0",
          "state": {
            "_view_name": "ProgressView",
            "style": "IPY_MODEL_642e217890d3445cbf5e8569a24e89bf",
            "_dom_classes": [],
            "description": "",
            "_model_name": "FloatProgressModel",
            "bar_style": "success",
            "max": 102502400,
            "_view_module": "@jupyter-widgets/controls",
            "_model_module_version": "1.5.0",
            "value": 102502400,
            "_view_count": null,
            "_view_module_version": "1.5.0",
            "orientation": "horizontal",
            "min": 0,
            "description_tooltip": null,
            "_model_module": "@jupyter-widgets/controls",
            "layout": "IPY_MODEL_37cabc78a3294cfbbdd2b189a2605071"
          }
        },
        "8416c9c39134415b97e07095329bbbf2": {
          "model_module": "@jupyter-widgets/controls",
          "model_name": "HTMLModel",
          "model_module_version": "1.5.0",
          "state": {
            "_view_name": "HTMLView",
            "style": "IPY_MODEL_7ff8aa53fdc9418cb5072afcfd7f4224",
            "_dom_classes": [],
            "description": "",
            "_model_name": "HTMLModel",
            "placeholder": "​",
            "_view_module": "@jupyter-widgets/controls",
            "_model_module_version": "1.5.0",
            "value": " 97.8M/97.8M [00:01&lt;00:00, 56.3MB/s]",
            "_view_count": null,
            "_view_module_version": "1.5.0",
            "description_tooltip": null,
            "_model_module": "@jupyter-widgets/controls",
            "layout": "IPY_MODEL_77b5cae4b3494f56a6535db5b15f7209"
          }
        },
        "bdee448c2de24f059538f9927f065cc5": {
          "model_module": "@jupyter-widgets/controls",
          "model_name": "DescriptionStyleModel",
          "model_module_version": "1.5.0",
          "state": {
            "_view_name": "StyleView",
            "_model_name": "DescriptionStyleModel",
            "description_width": "",
            "_view_module": "@jupyter-widgets/base",
            "_model_module_version": "1.5.0",
            "_view_count": null,
            "_view_module_version": "1.2.0",
            "_model_module": "@jupyter-widgets/controls"
          }
        },
        "5cd32481a391416aa7e8313570981670": {
          "model_module": "@jupyter-widgets/base",
          "model_name": "LayoutModel",
          "model_module_version": "1.2.0",
          "state": {
            "_view_name": "LayoutView",
            "grid_template_rows": null,
            "right": null,
            "justify_content": null,
            "_view_module": "@jupyter-widgets/base",
            "overflow": null,
            "_model_module_version": "1.2.0",
            "_view_count": null,
            "flex_flow": null,
            "width": null,
            "min_width": null,
            "border": null,
            "align_items": null,
            "bottom": null,
            "_model_module": "@jupyter-widgets/base",
            "top": null,
            "grid_column": null,
            "overflow_y": null,
            "overflow_x": null,
            "grid_auto_flow": null,
            "grid_area": null,
            "grid_template_columns": null,
            "flex": null,
            "_model_name": "LayoutModel",
            "justify_items": null,
            "grid_row": null,
            "max_height": null,
            "align_content": null,
            "visibility": null,
            "align_self": null,
            "height": null,
            "min_height": null,
            "padding": null,
            "grid_auto_rows": null,
            "grid_gap": null,
            "max_width": null,
            "order": null,
            "_view_module_version": "1.2.0",
            "grid_template_areas": null,
            "object_position": null,
            "object_fit": null,
            "grid_auto_columns": null,
            "margin": null,
            "display": null,
            "left": null
          }
        },
        "642e217890d3445cbf5e8569a24e89bf": {
          "model_module": "@jupyter-widgets/controls",
          "model_name": "ProgressStyleModel",
          "model_module_version": "1.5.0",
          "state": {
            "_view_name": "StyleView",
            "_model_name": "ProgressStyleModel",
            "description_width": "",
            "_view_module": "@jupyter-widgets/base",
            "_model_module_version": "1.5.0",
            "_view_count": null,
            "_view_module_version": "1.2.0",
            "bar_color": null,
            "_model_module": "@jupyter-widgets/controls"
          }
        },
        "37cabc78a3294cfbbdd2b189a2605071": {
          "model_module": "@jupyter-widgets/base",
          "model_name": "LayoutModel",
          "model_module_version": "1.2.0",
          "state": {
            "_view_name": "LayoutView",
            "grid_template_rows": null,
            "right": null,
            "justify_content": null,
            "_view_module": "@jupyter-widgets/base",
            "overflow": null,
            "_model_module_version": "1.2.0",
            "_view_count": null,
            "flex_flow": null,
            "width": null,
            "min_width": null,
            "border": null,
            "align_items": null,
            "bottom": null,
            "_model_module": "@jupyter-widgets/base",
            "top": null,
            "grid_column": null,
            "overflow_y": null,
            "overflow_x": null,
            "grid_auto_flow": null,
            "grid_area": null,
            "grid_template_columns": null,
            "flex": null,
            "_model_name": "LayoutModel",
            "justify_items": null,
            "grid_row": null,
            "max_height": null,
            "align_content": null,
            "visibility": null,
            "align_self": null,
            "height": null,
            "min_height": null,
            "padding": null,
            "grid_auto_rows": null,
            "grid_gap": null,
            "max_width": null,
            "order": null,
            "_view_module_version": "1.2.0",
            "grid_template_areas": null,
            "object_position": null,
            "object_fit": null,
            "grid_auto_columns": null,
            "margin": null,
            "display": null,
            "left": null
          }
        },
        "7ff8aa53fdc9418cb5072afcfd7f4224": {
          "model_module": "@jupyter-widgets/controls",
          "model_name": "DescriptionStyleModel",
          "model_module_version": "1.5.0",
          "state": {
            "_view_name": "StyleView",
            "_model_name": "DescriptionStyleModel",
            "description_width": "",
            "_view_module": "@jupyter-widgets/base",
            "_model_module_version": "1.5.0",
            "_view_count": null,
            "_view_module_version": "1.2.0",
            "_model_module": "@jupyter-widgets/controls"
          }
        },
        "77b5cae4b3494f56a6535db5b15f7209": {
          "model_module": "@jupyter-widgets/base",
          "model_name": "LayoutModel",
          "model_module_version": "1.2.0",
          "state": {
            "_view_name": "LayoutView",
            "grid_template_rows": null,
            "right": null,
            "justify_content": null,
            "_view_module": "@jupyter-widgets/base",
            "overflow": null,
            "_model_module_version": "1.2.0",
            "_view_count": null,
            "flex_flow": null,
            "width": null,
            "min_width": null,
            "border": null,
            "align_items": null,
            "bottom": null,
            "_model_module": "@jupyter-widgets/base",
            "top": null,
            "grid_column": null,
            "overflow_y": null,
            "overflow_x": null,
            "grid_auto_flow": null,
            "grid_area": null,
            "grid_template_columns": null,
            "flex": null,
            "_model_name": "LayoutModel",
            "justify_items": null,
            "grid_row": null,
            "max_height": null,
            "align_content": null,
            "visibility": null,
            "align_self": null,
            "height": null,
            "min_height": null,
            "padding": null,
            "grid_auto_rows": null,
            "grid_gap": null,
            "max_width": null,
            "order": null,
            "_view_module_version": "1.2.0",
            "grid_template_areas": null,
            "object_position": null,
            "object_fit": null,
            "grid_auto_columns": null,
            "margin": null,
            "display": null,
            "left": null
          }
        }
      }
    }
  },
  "cells": [
    {
      "cell_type": "markdown",
      "metadata": {
        "id": "vOphoLcnw5Cg"
      },
      "source": [
        "# Billboard Detection"
      ]
    },
    {
      "cell_type": "code",
      "metadata": {
        "id": "bjS6oXaXvL4A"
      },
      "source": [
        "#mounting drive\n",
        "from google.colab import drive\n",
        "drive.mount('/content/drive')"
      ],
      "execution_count": null,
      "outputs": []
    },
    {
      "cell_type": "code",
      "metadata": {
        "id": "adoZmXyjCook",
        "colab": {
          "base_uri": "https://localhost:8080/"
        },
        "outputId": "9d0aa127-e12d-42e7-eaaa-a5c695e49f58"
      },
      "source": [
        "#run this to clone\n",
        "! git clone https://github.com/Tessellate-Imaging/Monk_Object_Detection.git"
      ],
      "execution_count": null,
      "outputs": [
        {
          "output_type": "stream",
          "name": "stdout",
          "text": [
            "Cloning into 'Monk_Object_Detection'...\n",
            "remote: Enumerating objects: 10560, done.\u001b[K\n",
            "remote: Counting objects: 100% (35/35), done.\u001b[K\n",
            "remote: Compressing objects: 100% (35/35), done.\u001b[K\n",
            "remote: Total 10560 (delta 15), reused 0 (delta 0), pack-reused 10525\u001b[K\n",
            "Receiving objects: 100% (10560/10560), 260.88 MiB | 30.44 MiB/s, done.\n",
            "Resolving deltas: 100% (4707/4707), done.\n",
            "Checking out files: 100% (8428/8428), done.\n"
          ]
        }
      ]
    },
    {
      "cell_type": "code",
      "metadata": {
        "id": "W2s9_TsfCoom",
        "colab": {
          "base_uri": "https://localhost:8080/"
        },
        "outputId": "5c1912d7-72ac-4809-fd4e-d05cc57b5ead"
      },
      "source": [
        "# For colab use the command below\n",
        "! cd Monk_Object_Detection/5_pytorch_retinanet/installation && cat requirements_colab.txt | xargs -n 1 -L 1 pip install\n",
        "\n",
        "# For Local systems and cloud select the right CUDA version\n",
        "#! cd Monk_Object_Detection/5_pytorch_retinanet/installation && cat requirements_cuda.txt | xargs -n 1 -L 1 pip install"
      ],
      "execution_count": null,
      "outputs": [
        {
          "output_type": "stream",
          "name": "stdout",
          "text": [
            "Requirement already satisfied: scikit-learn in /usr/local/lib/python3.7/dist-packages (0.22.2.post1)\n",
            "Requirement already satisfied: joblib>=0.11 in /usr/local/lib/python3.7/dist-packages (from scikit-learn) (1.0.1)\n",
            "Requirement already satisfied: numpy>=1.11.0 in /usr/local/lib/python3.7/dist-packages (from scikit-learn) (1.19.5)\n",
            "Requirement already satisfied: scipy>=0.17.0 in /usr/local/lib/python3.7/dist-packages (from scikit-learn) (1.4.1)\n",
            "Requirement already satisfied: scikit-image in /usr/local/lib/python3.7/dist-packages (0.16.2)\n",
            "Requirement already satisfied: PyWavelets>=0.4.0 in /usr/local/lib/python3.7/dist-packages (from scikit-image) (1.1.1)\n",
            "Requirement already satisfied: imageio>=2.3.0 in /usr/local/lib/python3.7/dist-packages (from scikit-image) (2.4.1)\n",
            "Requirement already satisfied: matplotlib!=3.0.0,>=2.0.0 in /usr/local/lib/python3.7/dist-packages (from scikit-image) (3.2.2)\n",
            "Requirement already satisfied: pillow>=4.3.0 in /usr/local/lib/python3.7/dist-packages (from scikit-image) (7.1.2)\n",
            "Requirement already satisfied: scipy>=0.19.0 in /usr/local/lib/python3.7/dist-packages (from scikit-image) (1.4.1)\n",
            "Requirement already satisfied: networkx>=2.0 in /usr/local/lib/python3.7/dist-packages (from scikit-image) (2.6.3)\n",
            "Requirement already satisfied: numpy in /usr/local/lib/python3.7/dist-packages (from imageio>=2.3.0->scikit-image) (1.19.5)\n",
            "Requirement already satisfied: kiwisolver>=1.0.1 in /usr/local/lib/python3.7/dist-packages (from matplotlib!=3.0.0,>=2.0.0->scikit-image) (1.3.2)\n",
            "Requirement already satisfied: pyparsing!=2.0.4,!=2.1.2,!=2.1.6,>=2.0.1 in /usr/local/lib/python3.7/dist-packages (from matplotlib!=3.0.0,>=2.0.0->scikit-image) (2.4.7)\n",
            "Requirement already satisfied: python-dateutil>=2.1 in /usr/local/lib/python3.7/dist-packages (from matplotlib!=3.0.0,>=2.0.0->scikit-image) (2.8.2)\n",
            "Requirement already satisfied: cycler>=0.10 in /usr/local/lib/python3.7/dist-packages (from matplotlib!=3.0.0,>=2.0.0->scikit-image) (0.10.0)\n",
            "Requirement already satisfied: six in /usr/local/lib/python3.7/dist-packages (from cycler>=0.10->matplotlib!=3.0.0,>=2.0.0->scikit-image) (1.15.0)\n",
            "Collecting efficientnet_pytorch\n",
            "  Downloading efficientnet_pytorch-0.7.1.tar.gz (21 kB)\n",
            "Requirement already satisfied: torch in /usr/local/lib/python3.7/dist-packages (from efficientnet_pytorch) (1.9.0+cu111)\n",
            "Requirement already satisfied: typing-extensions in /usr/local/lib/python3.7/dist-packages (from torch->efficientnet_pytorch) (3.7.4.3)\n",
            "Building wheels for collected packages: efficientnet-pytorch\n",
            "  Building wheel for efficientnet-pytorch (setup.py) ... \u001b[?25l\u001b[?25hdone\n",
            "  Created wheel for efficientnet-pytorch: filename=efficientnet_pytorch-0.7.1-py3-none-any.whl size=16446 sha256=f9791cfd2dc96c85e6f5f7a55069939eff737c4e57777fef19eab9280943a2f8\n",
            "  Stored in directory: /root/.cache/pip/wheels/0e/cc/b2/49e74588263573ff778da58cc99b9c6349b496636a7e165be6\n",
            "Successfully built efficientnet-pytorch\n",
            "Installing collected packages: efficientnet-pytorch\n",
            "Successfully installed efficientnet-pytorch-0.7.1\n",
            "Collecting pycocotools\n",
            "  Cloning https://github.com/abhi-kumar/cocoapi.git to /tmp/pip-install-dsydb6h2/pycocotools_d231d4e866c8425b84428aacbb6f2080\n",
            "  Running command git clone -q https://github.com/abhi-kumar/cocoapi.git /tmp/pip-install-dsydb6h2/pycocotools_d231d4e866c8425b84428aacbb6f2080\n",
            "Requirement already satisfied: setuptools>=18.0 in /usr/local/lib/python3.7/dist-packages (from pycocotools) (57.4.0)\n",
            "Requirement already satisfied: cython>=0.27.3 in /usr/local/lib/python3.7/dist-packages (from pycocotools) (0.29.24)\n",
            "Requirement already satisfied: matplotlib>=2.1.0 in /usr/local/lib/python3.7/dist-packages (from pycocotools) (3.2.2)\n",
            "Requirement already satisfied: python-dateutil>=2.1 in /usr/local/lib/python3.7/dist-packages (from matplotlib>=2.1.0->pycocotools) (2.8.2)\n",
            "Requirement already satisfied: numpy>=1.11 in /usr/local/lib/python3.7/dist-packages (from matplotlib>=2.1.0->pycocotools) (1.19.5)\n",
            "Requirement already satisfied: kiwisolver>=1.0.1 in /usr/local/lib/python3.7/dist-packages (from matplotlib>=2.1.0->pycocotools) (1.3.2)\n",
            "Requirement already satisfied: cycler>=0.10 in /usr/local/lib/python3.7/dist-packages (from matplotlib>=2.1.0->pycocotools) (0.10.0)\n",
            "Requirement already satisfied: pyparsing!=2.0.4,!=2.1.2,!=2.1.6,>=2.0.1 in /usr/local/lib/python3.7/dist-packages (from matplotlib>=2.1.0->pycocotools) (2.4.7)\n",
            "Requirement already satisfied: six in /usr/local/lib/python3.7/dist-packages (from cycler>=0.10->matplotlib>=2.1.0->pycocotools) (1.15.0)\n",
            "Building wheels for collected packages: pycocotools\n",
            "  Building wheel for pycocotools (setup.py) ... \u001b[?25l\u001b[?25hdone\n",
            "  Created wheel for pycocotools: filename=pycocotools-2.0-cp37-cp37m-linux_x86_64.whl size=263846 sha256=1e76daf063aa290d24392de77bb2a13cb768675914af6c9d379428634308a675\n",
            "  Stored in directory: /tmp/pip-ephem-wheel-cache-enbaj5_u/wheels/b8/4c/a6/f34b4aa3f634b4461fc1934f6d1dedf20df540f6a028547647\n",
            "Successfully built pycocotools\n",
            "Installing collected packages: pycocotools\n",
            "  Attempting uninstall: pycocotools\n",
            "    Found existing installation: pycocotools 2.0.2\n",
            "    Uninstalling pycocotools-2.0.2:\n",
            "      Successfully uninstalled pycocotools-2.0.2\n",
            "Successfully installed pycocotools-2.0\n",
            "Collecting dicttoxml\n",
            "  Downloading dicttoxml-1.7.4.tar.gz (18 kB)\n",
            "Building wheels for collected packages: dicttoxml\n",
            "  Building wheel for dicttoxml (setup.py) ... \u001b[?25l\u001b[?25hdone\n",
            "  Created wheel for dicttoxml: filename=dicttoxml-1.7.4-py3-none-any.whl size=17463 sha256=3e88b32815d0f755dd2ce5b00866a6cc409d578b215a921eb0cc0cbc49f0e643\n",
            "  Stored in directory: /root/.cache/pip/wheels/18/44/5a/c7b93703f611ae3b50820efbaf265413e6b183a56cbec6f661\n",
            "Successfully built dicttoxml\n",
            "Installing collected packages: dicttoxml\n",
            "Successfully installed dicttoxml-1.7.4\n",
            "Collecting xmltodict\n",
            "  Downloading xmltodict-0.12.0-py2.py3-none-any.whl (9.2 kB)\n",
            "Installing collected packages: xmltodict\n",
            "Successfully installed xmltodict-0.12.0\n"
          ]
        }
      ]
    },
    {
      "cell_type": "markdown",
      "metadata": {
        "id": "b0345VuzCoon"
      },
      "source": [
        "# Using already trained model for a demo"
      ]
    },
    {
      "cell_type": "code",
      "metadata": {
        "id": "dqNY8-GPCooo"
      },
      "source": [
        "import os\n",
        "import sys\n",
        "sys.path.append(\"Monk_Object_Detection/5_pytorch_retinanet/lib/\");"
      ],
      "execution_count": null,
      "outputs": []
    },
    {
      "cell_type": "code",
      "metadata": {
        "id": "90lA2YKvCoop"
      },
      "source": [
        "from infer_detector import Infer"
      ],
      "execution_count": null,
      "outputs": []
    },
    {
      "cell_type": "code",
      "metadata": {
        "id": "kwkB25SFCoop"
      },
      "source": [
        "gtf = Infer();"
      ],
      "execution_count": null,
      "outputs": []
    },
    {
      "cell_type": "code",
      "metadata": {
        "id": "0Jx2u7GwCooq",
        "colab": {
          "base_uri": "https://localhost:8080/"
        },
        "outputId": "720e8e0a-0516-4a11-a5da-73031c53576b"
      },
      "source": [
        "#Downloading pretrained model\n",
        "! wget --load-cookies /tmp/cookies.txt \"https://docs.google.com/uc?export=download&confirm=$(wget --save-cookies /tmp/cookies.txt --keep-session-cookies --no-check-certificate 'https://docs.google.com/uc?export=download&id=1TBG8ItJ6608D68iFrUhcN7koehXD3QBg' -O- | sed -rn 's/.*confirm=([0-9A-Za-z_]+).*/\\1\\n/p')&id=1TBG8ItJ6608D68iFrUhcN7koehXD3QBg\" -O billboard_trained.zip && rm -rf /tmp/cookies.txt"
      ],
      "execution_count": null,
      "outputs": [
        {
          "output_type": "stream",
          "name": "stdout",
          "text": [
            "--2021-11-08 10:43:25--  https://docs.google.com/uc?export=download&id=1TBG8ItJ6608D68iFrUhcN7koehXD3QBg\n",
            "Resolving docs.google.com (docs.google.com)... 209.85.147.138, 209.85.147.139, 209.85.147.113, ...\n",
            "Connecting to docs.google.com (docs.google.com)|209.85.147.138|:443... connected.\n",
            "HTTP request sent, awaiting response... 200 OK\n",
            "Length: unspecified [text/html]\n",
            "Saving to: ‘STDOUT’\n",
            "\n",
            "\r-                       [<=>                 ]       0  --.-KB/s               \r-                       [ <=>                ]   3.20K  --.-KB/s    in 0s      \n",
            "\n",
            "2021-11-08 10:43:26 (35.8 MB/s) - written to stdout [3281]\n",
            "\n",
            "--2021-11-08 10:43:26--  https://docs.google.com/uc?export=download&confirm=CQnW&id=1TBG8ItJ6608D68iFrUhcN7koehXD3QBg\n",
            "Resolving docs.google.com (docs.google.com)... 209.85.147.101, 209.85.147.102, 209.85.147.113, ...\n",
            "Connecting to docs.google.com (docs.google.com)|209.85.147.101|:443... connected.\n",
            "HTTP request sent, awaiting response... 302 Moved Temporarily\n",
            "Location: https://doc-14-38-docs.googleusercontent.com/docs/securesc/3p4iss4fbu20vcfbv8i8gkqkjejqudk6/dsks79c2eo8igi4d40qis38fr8127f8l/1636368150000/05432785674332644555/13783712856120995743Z/1TBG8ItJ6608D68iFrUhcN7koehXD3QBg?e=download [following]\n",
            "--2021-11-08 10:43:26--  https://doc-14-38-docs.googleusercontent.com/docs/securesc/3p4iss4fbu20vcfbv8i8gkqkjejqudk6/dsks79c2eo8igi4d40qis38fr8127f8l/1636368150000/05432785674332644555/13783712856120995743Z/1TBG8ItJ6608D68iFrUhcN7koehXD3QBg?e=download\n",
            "Resolving doc-14-38-docs.googleusercontent.com (doc-14-38-docs.googleusercontent.com)... 173.194.197.132, 2607:f8b0:4001:c1b::84\n",
            "Connecting to doc-14-38-docs.googleusercontent.com (doc-14-38-docs.googleusercontent.com)|173.194.197.132|:443... connected.\n",
            "HTTP request sent, awaiting response... 302 Found\n",
            "Location: https://docs.google.com/nonceSigner?nonce=tvtkjj54fshss&continue=https://doc-14-38-docs.googleusercontent.com/docs/securesc/3p4iss4fbu20vcfbv8i8gkqkjejqudk6/dsks79c2eo8igi4d40qis38fr8127f8l/1636368150000/05432785674332644555/13783712856120995743Z/1TBG8ItJ6608D68iFrUhcN7koehXD3QBg?e%3Ddownload&hash=nek0mlb7nau804jfc9437mjlsdem4e4l [following]\n",
            "--2021-11-08 10:43:26--  https://docs.google.com/nonceSigner?nonce=tvtkjj54fshss&continue=https://doc-14-38-docs.googleusercontent.com/docs/securesc/3p4iss4fbu20vcfbv8i8gkqkjejqudk6/dsks79c2eo8igi4d40qis38fr8127f8l/1636368150000/05432785674332644555/13783712856120995743Z/1TBG8ItJ6608D68iFrUhcN7koehXD3QBg?e%3Ddownload&hash=nek0mlb7nau804jfc9437mjlsdem4e4l\n",
            "Connecting to docs.google.com (docs.google.com)|209.85.147.101|:443... connected.\n",
            "HTTP request sent, awaiting response... 302 Found\n",
            "Location: https://doc-14-38-docs.googleusercontent.com/docs/securesc/3p4iss4fbu20vcfbv8i8gkqkjejqudk6/dsks79c2eo8igi4d40qis38fr8127f8l/1636368150000/05432785674332644555/13783712856120995743Z/1TBG8ItJ6608D68iFrUhcN7koehXD3QBg?e=download&nonce=tvtkjj54fshss&user=13783712856120995743Z&hash=bd0qkjk3l6khuo8p9tacoleedc3socp4 [following]\n",
            "--2021-11-08 10:43:26--  https://doc-14-38-docs.googleusercontent.com/docs/securesc/3p4iss4fbu20vcfbv8i8gkqkjejqudk6/dsks79c2eo8igi4d40qis38fr8127f8l/1636368150000/05432785674332644555/13783712856120995743Z/1TBG8ItJ6608D68iFrUhcN7koehXD3QBg?e=download&nonce=tvtkjj54fshss&user=13783712856120995743Z&hash=bd0qkjk3l6khuo8p9tacoleedc3socp4\n",
            "Connecting to doc-14-38-docs.googleusercontent.com (doc-14-38-docs.googleusercontent.com)|173.194.197.132|:443... connected.\n",
            "HTTP request sent, awaiting response... 200 OK\n",
            "Length: 135242863 (129M) [application/zip]\n",
            "Saving to: ‘billboard_trained.zip’\n",
            "\n",
            "billboard_trained.z 100%[===================>] 128.98M   145MB/s    in 0.9s    \n",
            "\n",
            "2021-11-08 10:43:27 (145 MB/s) - ‘billboard_trained.zip’ saved [135242863/135242863]\n",
            "\n"
          ]
        }
      ]
    },
    {
      "cell_type": "code",
      "metadata": {
        "id": "E6eOJP7MCoor"
      },
      "source": [
        "#unzipping the folder to accses it\n",
        "\n",
        "! unzip -qq billboard_trained.zip"
      ],
      "execution_count": null,
      "outputs": []
    },
    {
      "cell_type": "code",
      "metadata": {
        "id": "lpOiV8d4Coos",
        "colab": {
          "base_uri": "https://localhost:8080/"
        },
        "outputId": "fa3dac1c-32a6-4e8a-aa15-51c22f38197c"
      },
      "source": [
        "#loading the trained model which is in pytorch format\n",
        "gtf.Model(model_path=\"billboard_trained/final_model.pt\");"
      ],
      "execution_count": null,
      "outputs": [
        {
          "output_type": "stream",
          "name": "stderr",
          "text": [
            "/usr/local/lib/python3.7/dist-packages/torch/serialization.py:671: SourceChangeWarning: source code of class 'torch.nn.parallel.data_parallel.DataParallel' has changed. you can retrieve the original source code by accessing the object's source attribute or set `torch.nn.Module.dump_patches = True` and use the patch tool to revert the changes.\n",
            "  warnings.warn(msg, SourceChangeWarning)\n",
            "/usr/local/lib/python3.7/dist-packages/torch/serialization.py:671: SourceChangeWarning: source code of class 'torch.nn.modules.conv.Conv2d' has changed. you can retrieve the original source code by accessing the object's source attribute or set `torch.nn.Module.dump_patches = True` and use the patch tool to revert the changes.\n",
            "  warnings.warn(msg, SourceChangeWarning)\n",
            "/usr/local/lib/python3.7/dist-packages/torch/serialization.py:671: SourceChangeWarning: source code of class 'torch.nn.modules.batchnorm.BatchNorm2d' has changed. you can retrieve the original source code by accessing the object's source attribute or set `torch.nn.Module.dump_patches = True` and use the patch tool to revert the changes.\n",
            "  warnings.warn(msg, SourceChangeWarning)\n",
            "/usr/local/lib/python3.7/dist-packages/torch/serialization.py:671: SourceChangeWarning: source code of class 'torch.nn.modules.activation.ReLU' has changed. you can retrieve the original source code by accessing the object's source attribute or set `torch.nn.Module.dump_patches = True` and use the patch tool to revert the changes.\n",
            "  warnings.warn(msg, SourceChangeWarning)\n",
            "/usr/local/lib/python3.7/dist-packages/torch/serialization.py:671: SourceChangeWarning: source code of class 'torch.nn.modules.pooling.MaxPool2d' has changed. you can retrieve the original source code by accessing the object's source attribute or set `torch.nn.Module.dump_patches = True` and use the patch tool to revert the changes.\n",
            "  warnings.warn(msg, SourceChangeWarning)\n",
            "/usr/local/lib/python3.7/dist-packages/torch/serialization.py:671: SourceChangeWarning: source code of class 'torch.nn.modules.container.Sequential' has changed. you can retrieve the original source code by accessing the object's source attribute or set `torch.nn.Module.dump_patches = True` and use the patch tool to revert the changes.\n",
            "  warnings.warn(msg, SourceChangeWarning)\n",
            "/usr/local/lib/python3.7/dist-packages/torch/serialization.py:671: SourceChangeWarning: source code of class 'torch.nn.modules.upsampling.Upsample' has changed. you can retrieve the original source code by accessing the object's source attribute or set `torch.nn.Module.dump_patches = True` and use the patch tool to revert the changes.\n",
            "  warnings.warn(msg, SourceChangeWarning)\n",
            "/usr/local/lib/python3.7/dist-packages/torch/serialization.py:671: SourceChangeWarning: source code of class 'torch.nn.modules.activation.Sigmoid' has changed. you can retrieve the original source code by accessing the object's source attribute or set `torch.nn.Module.dump_patches = True` and use the patch tool to revert the changes.\n",
            "  warnings.warn(msg, SourceChangeWarning)\n"
          ]
        }
      ]
    },
    {
      "cell_type": "code",
      "metadata": {
        "id": "oDv_N4A0Coou"
      },
      "source": [
        "#opening the text file and reading line by line\n",
        "f = open(\"billboard_trained/classes.txt\", 'r');\n",
        "class_list = f.readlines();\n",
        "f.close();\n",
        "for i in range(len(class_list)):\n",
        "    class_list[i] = class_list[i][:-1]"
      ],
      "execution_count": null,
      "outputs": []
    },
    {
      "cell_type": "code",
      "metadata": {
        "id": "jQtCpRBcCoov"
      },
      "source": [
        ""
      ],
      "execution_count": null,
      "outputs": []
    },
    {
      "cell_type": "code",
      "metadata": {
        "id": "E7RYmmAtCoov",
        "colab": {
          "base_uri": "https://localhost:8080/",
          "height": 514
        },
        "outputId": "26510ca9-8ba8-4512-c599-9b67c7c7f457"
      },
      "source": [
        "\n",
        "img_path = \"Monk_Object_Detection/example_notebooks/sample_dataset/billboard_test/img2.jpeg\";\n",
        "scores, labels, boxes = gtf.Predict(img_path, class_list, vis_threshold=0.4);\n",
        "from IPython.display import Image\n",
        "Image(filename='output.jpg') "
      ],
      "execution_count": null,
      "outputs": [
        {
          "output_type": "stream",
          "name": "stderr",
          "text": [
            "/usr/local/lib/python3.7/dist-packages/torch/nn/functional.py:718: UserWarning: Named tensors and all their associated APIs are an experimental feature and subject to change. Please do not use them for anything important until they are released as stable. (Triggered internally at  /pytorch/c10/core/TensorImpl.h:1156.)\n",
            "  return torch.max_pool2d(input, kernel_size, stride, padding, dilation, ceil_mode)\n"
          ]
        },
        {
          "output_type": "execute_result",
          "data": {
            "image/jpeg": "[encoded data removed]",
            "text/plain": [
              "<IPython.core.display.Image object>"
            ]
          },
          "metadata": {},
          "execution_count": 11
        }
      ]
    },
    {
      "cell_type": "code",
      "metadata": {
        "id": "LHfV3bxACoow"
      },
      "source": [
        "#Predicting the second image in our dataset"
      ],
      "execution_count": null,
      "outputs": []
    },
    {
      "cell_type": "code",
      "metadata": {
        "id": "qGPuP6ksCoow",
        "colab": {
          "base_uri": "https://localhost:8080/",
          "height": 377
        },
        "outputId": "b4ba2d03-2a66-409c-aee6-053310c3db21"
      },
      "source": [
        "img_path = \"Monk_Object_Detection/example_notebooks/sample_dataset/billboard_test/img3.jpeg\";\n",
        "scores, labels, boxes = gtf.Predict(img_path, class_list, vis_threshold=0.4);\n",
        "from IPython.display import Image\n",
        "Image(filename='output.jpg') "
      ],
      "execution_count": null,
      "outputs": [
        {
          "output_type": "execute_result",
          "data": {
            "image/jpeg": "[encoded data removed]",
            "text/plain": [
              "<IPython.core.display.Image object>"
            ]
          },
          "metadata": {},
          "execution_count": 12
        }
      ]
    },
    {
      "cell_type": "markdown",
      "metadata": {
        "id": "sVXnNI8NCooy"
      },
      "source": [
        "# Train you own detector"
      ]
    },
    {
      "cell_type": "markdown",
      "metadata": {
        "id": "fXyV3OjrCooz"
      },
      "source": [
        "# Dataset\n",
        "\n",
        "  - Credits - https://storage.googleapis.com/openimages/web/index.html\n",
        "  \n",
        "  - Collected using - https://github.com/EscVM/OIDv4_ToolKit\n",
        "  \n",
        "       - Command used to collect (inside OIDv4_ToolKit)\n",
        "         - python main.py downloader --classes Apple Orange --type_csv validation\n",
        "         \n",
        "  - Converted the dataset to COCO format"
      ]
    },
    {
      "cell_type": "code",
      "metadata": {
        "id": "4ZXDjwSECooz"
      },
      "source": [
        "# Downloading dataset the dataset"
      ],
      "execution_count": null,
      "outputs": []
    },
    {
      "cell_type": "code",
      "metadata": {
        "id": "XiQ6Vv0bCooz",
        "colab": {
          "base_uri": "https://localhost:8080/"
        },
        "outputId": "64702af6-d838-43f4-e839-6fcb92d7f210"
      },
      "source": [
        "! wget --load-cookies /tmp/cookies.txt \"https://docs.google.com/uc?export=download&confirm=$(wget --save-cookies /tmp/cookies.txt --keep-session-cookies --no-check-certificate 'https://docs.google.com/uc?export=download&id=1nqsDz8USRCotC5m-a_0M3Kd74s0bre2v' -O- | sed -rn 's/.*confirm=([0-9A-Za-z_]+).*/\\1\\n/p')&id=1nqsDz8USRCotC5m-a_0M3Kd74s0bre2v\" -O billboard.zip && rm -rf /tmp/cookies.txt"
      ],
      "execution_count": null,
      "outputs": [
        {
          "output_type": "stream",
          "name": "stdout",
          "text": [
            "--2021-11-08 10:43:45--  https://docs.google.com/uc?export=download&id=1nqsDz8USRCotC5m-a_0M3Kd74s0bre2v\n",
            "Resolving docs.google.com (docs.google.com)... 209.85.147.100, 209.85.147.102, 209.85.147.138, ...\n",
            "Connecting to docs.google.com (docs.google.com)|209.85.147.100|:443... connected.\n",
            "HTTP request sent, awaiting response... 200 OK\n",
            "Length: unspecified [text/html]\n",
            "Saving to: ‘STDOUT’\n",
            "\n",
            "-                       [ <=>                ]   3.20K  --.-KB/s    in 0s      \n",
            "\n",
            "2021-11-08 10:43:45 (39.1 MB/s) - written to stdout [3273]\n",
            "\n",
            "--2021-11-08 10:43:45--  https://docs.google.com/uc?export=download&confirm=0nSA&id=1nqsDz8USRCotC5m-a_0M3Kd74s0bre2v\n",
            "Resolving docs.google.com (docs.google.com)... 209.85.147.100, 209.85.147.102, 209.85.147.138, ...\n",
            "Connecting to docs.google.com (docs.google.com)|209.85.147.100|:443... connected.\n",
            "HTTP request sent, awaiting response... 302 Moved Temporarily\n",
            "Location: https://doc-10-a0-docs.googleusercontent.com/docs/securesc/5ibtse8mj0kscdkv8lqt3gr1fu0lrpe7/undb3i3jrqgtdivv12btcaf81ln42t0h/1636368225000/18248774249360673145/11087958209220347893Z/1nqsDz8USRCotC5m-a_0M3Kd74s0bre2v?e=download [following]\n",
            "--2021-11-08 10:43:45--  https://doc-10-a0-docs.googleusercontent.com/docs/securesc/5ibtse8mj0kscdkv8lqt3gr1fu0lrpe7/undb3i3jrqgtdivv12btcaf81ln42t0h/1636368225000/18248774249360673145/11087958209220347893Z/1nqsDz8USRCotC5m-a_0M3Kd74s0bre2v?e=download\n",
            "Resolving doc-10-a0-docs.googleusercontent.com (doc-10-a0-docs.googleusercontent.com)... 173.194.197.132, 2607:f8b0:4001:c1b::84\n",
            "Connecting to doc-10-a0-docs.googleusercontent.com (doc-10-a0-docs.googleusercontent.com)|173.194.197.132|:443... connected.\n",
            "HTTP request sent, awaiting response... 302 Found\n",
            "Location: https://docs.google.com/nonceSigner?nonce=5c0pbt14vdm5c&continue=https://doc-10-a0-docs.googleusercontent.com/docs/securesc/5ibtse8mj0kscdkv8lqt3gr1fu0lrpe7/undb3i3jrqgtdivv12btcaf81ln42t0h/1636368225000/18248774249360673145/11087958209220347893Z/1nqsDz8USRCotC5m-a_0M3Kd74s0bre2v?e%3Ddownload&hash=5n2f8a5uo62lc57jvqj62sihcjtobdpr [following]\n",
            "--2021-11-08 10:43:45--  https://docs.google.com/nonceSigner?nonce=5c0pbt14vdm5c&continue=https://doc-10-a0-docs.googleusercontent.com/docs/securesc/5ibtse8mj0kscdkv8lqt3gr1fu0lrpe7/undb3i3jrqgtdivv12btcaf81ln42t0h/1636368225000/18248774249360673145/11087958209220347893Z/1nqsDz8USRCotC5m-a_0M3Kd74s0bre2v?e%3Ddownload&hash=5n2f8a5uo62lc57jvqj62sihcjtobdpr\n",
            "Connecting to docs.google.com (docs.google.com)|209.85.147.100|:443... connected.\n",
            "HTTP request sent, awaiting response... 302 Found\n",
            "Location: https://doc-10-a0-docs.googleusercontent.com/docs/securesc/5ibtse8mj0kscdkv8lqt3gr1fu0lrpe7/undb3i3jrqgtdivv12btcaf81ln42t0h/1636368225000/18248774249360673145/11087958209220347893Z/1nqsDz8USRCotC5m-a_0M3Kd74s0bre2v?e=download&nonce=5c0pbt14vdm5c&user=11087958209220347893Z&hash=37s03e0cp2ejb392agjm13mu4aecc7ms [following]\n",
            "--2021-11-08 10:43:46--  https://doc-10-a0-docs.googleusercontent.com/docs/securesc/5ibtse8mj0kscdkv8lqt3gr1fu0lrpe7/undb3i3jrqgtdivv12btcaf81ln42t0h/1636368225000/18248774249360673145/11087958209220347893Z/1nqsDz8USRCotC5m-a_0M3Kd74s0bre2v?e=download&nonce=5c0pbt14vdm5c&user=11087958209220347893Z&hash=37s03e0cp2ejb392agjm13mu4aecc7ms\n",
            "Connecting to doc-10-a0-docs.googleusercontent.com (doc-10-a0-docs.googleusercontent.com)|173.194.197.132|:443... connected.\n",
            "HTTP request sent, awaiting response... 200 OK\n",
            "Length: 999180071 (953M) [application/zip]\n",
            "Saving to: ‘billboard.zip’\n",
            "\n",
            "billboard.zip       100%[===================>] 952.89M   122MB/s    in 7.3s    \n",
            "\n",
            "2021-11-08 10:43:53 (130 MB/s) - ‘billboard.zip’ saved [999180071/999180071]\n",
            "\n"
          ]
        }
      ]
    },
    {
      "cell_type": "code",
      "metadata": {
        "id": "i8Er5nU6Coo0"
      },
      "source": [
        "! unzip -q billboard.zip"
      ],
      "execution_count": null,
      "outputs": []
    },
    {
      "cell_type": "code",
      "metadata": {
        "id": "411B5eTFCoo0"
      },
      "source": [
        ""
      ],
      "execution_count": null,
      "outputs": []
    },
    {
      "cell_type": "markdown",
      "metadata": {
        "id": "5Sz5c-GbCoo0"
      },
      "source": [
        "# COCO Format - 2\n",
        "\n",
        "## Dataset Directory Structure\n",
        "\n",
        "         ./ (root_dir)\n",
        "          |\n",
        "          |------billboard (coco_dir) \n",
        "          |         |\n",
        "          |         |---Images (set_dir)\n",
        "          |         |----|\n",
        "          |              |-------------------img1.jpg\n",
        "          |              |-------------------img2.jpg\n",
        "          |              |-------------------.........(and so on)\n",
        "          |\n",
        "          |\n",
        "          |         |---annotations \n",
        "          |         |----|\n",
        "          |              |--------------------instances_Images.json  (instances_<set_dir>.json)\n",
        "          |              |--------------------classes.txt\n",
        "          \n",
        "          \n",
        " - instances_Train.json -> In proper COCO format\n",
        " - classes.txt          -> A list of classes in alphabetical order\n",
        " \n",
        " For TrainSet\n",
        " - root_dir = \"./\";\n",
        " - coco_dir = \"billboard\";\n",
        " - img_dir = \"./\";\n",
        " - set_dir = \"Images\";\n",
        "\n",
        " \n",
        " Note: Annotation file name too coincides against the set_dir"
      ]
    },
    {
      "cell_type": "markdown",
      "metadata": {
        "id": "t-7VaJrqCoo2"
      },
      "source": [
        "# Training"
      ]
    },
    {
      "cell_type": "code",
      "metadata": {
        "id": "ksdxOoJUCoo2"
      },
      "source": [
        "import os\n",
        "import sys\n",
        "sys.path.append(\"Monk_Object_Detection/5_pytorch_retinanet/lib/\");"
      ],
      "execution_count": null,
      "outputs": []
    },
    {
      "cell_type": "code",
      "metadata": {
        "id": "fxkp--PlCoo2"
      },
      "source": [
        "#calling our class\n",
        "from train_detector import Detector"
      ],
      "execution_count": null,
      "outputs": []
    },
    {
      "cell_type": "code",
      "metadata": {
        "id": "xM8iB2M1Coo3"
      },
      "source": [
        "gtf = Detector();"
      ],
      "execution_count": null,
      "outputs": []
    },
    {
      "cell_type": "code",
      "metadata": {
        "id": "MWctpDvDCoo3"
      },
      "source": [
        ""
      ],
      "execution_count": null,
      "outputs": []
    },
    {
      "cell_type": "code",
      "metadata": {
        "id": "339fFar6Coo4"
      },
      "source": [
        "#this shows the directory of the images to use for training\n",
        "\n",
        "root_dir = \"./\";\n",
        "coco_dir = \"billboard\";\n",
        "img_dir = \"./\";\n",
        "set_dir = \"Images\";"
      ],
      "execution_count": null,
      "outputs": []
    },
    {
      "cell_type": "code",
      "metadata": {
        "id": "-rVupxeFCoo4",
        "colab": {
          "base_uri": "https://localhost:8080/"
        },
        "outputId": "94b1144b-d3c4-4f43-a3e1-1eacffb2a9ac"
      },
      "source": [
        "#training by calling the function Train_Dataset\n",
        "gtf.Train_Dataset(root_dir, coco_dir, img_dir, set_dir, batch_size=2, use_gpu=True)"
      ],
      "execution_count": null,
      "outputs": [
        {
          "output_type": "stream",
          "name": "stdout",
          "text": [
            "loading annotations into memory...\n",
            "Done (t=0.05s)\n",
            "creating index...\n",
            "index created!\n",
            "Num training images: 3399\n"
          ]
        },
        {
          "output_type": "stream",
          "name": "stderr",
          "text": [
            "/usr/local/lib/python3.7/dist-packages/torch/utils/data/dataloader.py:481: UserWarning: This DataLoader will create 3 worker processes in total. Our suggested max number of worker in current system is 2, which is smaller than what this DataLoader is going to create. Please be aware that excessive worker creation might get DataLoader running slow or even freeze, lower the worker number to avoid potential slowness/freeze if necessary.\n",
            "  cpuset_checked))\n"
          ]
        }
      ]
    },
    {
      "cell_type": "code",
      "metadata": {
        "id": "6BQMSwL0Coo5",
        "colab": {
          "base_uri": "https://localhost:8080/",
          "height": 66,
          "referenced_widgets": [
            "52e222a129304d89908e803b6278dcce",
            "4edeb03c71e74f87a1bf41f9438a5c72",
            "2fc32abc529e4fd39d67e90062ef6273",
            "2801943025d9461dad18e1f8437518f6",
            "8416c9c39134415b97e07095329bbbf2",
            "bdee448c2de24f059538f9927f065cc5",
            "5cd32481a391416aa7e8313570981670",
            "642e217890d3445cbf5e8569a24e89bf",
            "37cabc78a3294cfbbdd2b189a2605071",
            "7ff8aa53fdc9418cb5072afcfd7f4224",
            "77b5cae4b3494f56a6535db5b15f7209"
          ]
        },
        "outputId": "8b0b06bc-11b6-4519-c173-626a7137a421"
      },
      "source": [
        "#using resnet for our model and downloading it\n",
        "gtf.Model(model_name=\"resnet50\");"
      ],
      "execution_count": null,
      "outputs": [
        {
          "output_type": "stream",
          "name": "stderr",
          "text": [
            "Downloading: \"https://download.pytorch.org/models/resnet50-19c8e357.pth\" to ./resnet50-19c8e357.pth\n"
          ]
        },
        {
          "output_type": "display_data",
          "data": {
            "application/vnd.jupyter.widget-view+json": {
              "model_id": "52e222a129304d89908e803b6278dcce",
              "version_minor": 0,
              "version_major": 2
            },
            "text/plain": [
              "  0%|          | 0.00/97.8M [00:00<?, ?B/s]"
            ]
          },
          "metadata": {}
        }
      ]
    },
    {
      "cell_type": "code",
      "metadata": {
        "id": "dHunbGN4Coo5"
      },
      "source": [
        "#hyperperameter tuning(learning rate,validation)\n",
        "gtf.Set_Hyperparams(lr=0.0001, val_interval=1, print_interval=20)"
      ],
      "execution_count": null,
      "outputs": []
    },
    {
      "cell_type": "code",
      "metadata": {
        "id": "Ey44M6ZzCoo6",
        "colab": {
          "base_uri": "https://localhost:8080/",
          "height": 1000
        },
        "outputId": "3939e373-2914-4b6e-ebd1-e97278b81c2d"
      },
      "source": [
        "#training our model with epochs using the saved model in pytorch\n",
        "gtf.Train(num_epochs=17, output_model_name=\"final_model.pt\");"
      ],
      "execution_count": null,
      "outputs": [
        {
          "metadata": {
            "tags": null
          },
          "name": "stderr",
          "output_type": "stream",
          "text": [
            "/usr/local/lib/python3.7/dist-packages/torch/utils/data/dataloader.py:481: UserWarning: This DataLoader will create 3 worker processes in total. Our suggested max number of worker in current system is 2, which is smaller than what this DataLoader is going to create. Please be aware that excessive worker creation might get DataLoader running slow or even freeze, lower the worker number to avoid potential slowness/freeze if necessary.\n",
            "  cpuset_checked))\n"
          ]
        },
        {
          "output_type": "stream",
          "name": "stdout",
          "text": [
            "Epoch: 0 | Iteration: 0 | Classification loss: 1.13028 | Regression loss: 1.02886 | Running loss: 2.15914\n",
            "Epoch: 0 | Iteration: 20 | Classification loss: 0.93656 | Regression loss: 0.45416 | Running loss: 2.02630\n",
            "Epoch: 0 | Iteration: 40 | Classification loss: 0.69975 | Regression loss: 1.06063 | Running loss: 1.90563\n",
            "Epoch: 0 | Iteration: 60 | Classification loss: 0.61359 | Regression loss: 1.00246 | Running loss: 1.81662\n",
            "Epoch: 0 | Iteration: 80 | Classification loss: 0.48103 | Regression loss: 1.05555 | Running loss: 1.75373\n",
            "Epoch: 0 | Iteration: 100 | Classification loss: 0.39283 | Regression loss: 0.78132 | Running loss: 1.70719\n",
            "Epoch: 0 | Iteration: 120 | Classification loss: 0.48159 | Regression loss: 0.93180 | Running loss: 1.67158\n",
            "Epoch: 0 | Iteration: 140 | Classification loss: 0.93166 | Regression loss: 0.89330 | Running loss: 1.66338\n",
            "Epoch: 0 | Iteration: 160 | Classification loss: 0.65126 | Regression loss: 0.98241 | Running loss: 1.64187\n",
            "Epoch: 0 | Iteration: 180 | Classification loss: 0.56476 | Regression loss: 0.93563 | Running loss: 1.64921\n",
            "Epoch: 0 | Iteration: 200 | Classification loss: 0.29498 | Regression loss: 0.84191 | Running loss: 1.63282\n",
            "Epoch: 0 | Iteration: 220 | Classification loss: 0.81083 | Regression loss: 0.82480 | Running loss: 1.60592\n",
            "Epoch: 0 | Iteration: 240 | Classification loss: 0.40767 | Regression loss: 0.87151 | Running loss: 1.58762\n",
            "Epoch: 0 | Iteration: 260 | Classification loss: 0.58277 | Regression loss: 0.86382 | Running loss: 1.55997\n",
            "Epoch: 0 | Iteration: 280 | Classification loss: 0.44234 | Regression loss: 0.80755 | Running loss: 1.55002\n",
            "Epoch: 0 | Iteration: 300 | Classification loss: 0.38493 | Regression loss: 0.69207 | Running loss: 1.52424\n",
            "Epoch: 0 | Iteration: 320 | Classification loss: 0.29476 | Regression loss: 0.64623 | Running loss: 1.50058\n",
            "Epoch: 0 | Iteration: 340 | Classification loss: 0.60097 | Regression loss: 0.87865 | Running loss: 1.47431\n",
            "Epoch: 0 | Iteration: 360 | Classification loss: 0.75876 | Regression loss: 0.85886 | Running loss: 1.45545\n",
            "Epoch: 0 | Iteration: 380 | Classification loss: 0.42783 | Regression loss: 0.70331 | Running loss: 1.45283\n",
            "Epoch: 0 | Iteration: 400 | Classification loss: 0.26995 | Regression loss: 0.61440 | Running loss: 1.43724\n",
            "Epoch: 0 | Iteration: 420 | Classification loss: 0.30712 | Regression loss: 0.59013 | Running loss: 1.43222\n",
            "Epoch: 0 | Iteration: 440 | Classification loss: 0.38111 | Regression loss: 0.73998 | Running loss: 1.41747\n",
            "Epoch: 0 | Iteration: 460 | Classification loss: 0.44153 | Regression loss: 0.73769 | Running loss: 1.40135\n",
            "Epoch: 0 | Iteration: 480 | Classification loss: 0.30965 | Regression loss: 0.55535 | Running loss: 1.39531\n",
            "Epoch: 0 | Iteration: 500 | Classification loss: 0.34046 | Regression loss: 0.50500 | Running loss: 1.37828\n",
            "Epoch: 0 | Iteration: 520 | Classification loss: 0.40841 | Regression loss: 0.63957 | Running loss: 1.34196\n",
            "Epoch: 0 | Iteration: 540 | Classification loss: 0.45365 | Regression loss: 0.71766 | Running loss: 1.31548\n",
            "Epoch: 0 | Iteration: 560 | Classification loss: 0.27756 | Regression loss: 0.46708 | Running loss: 1.29152\n",
            "Epoch: 0 | Iteration: 580 | Classification loss: 0.44823 | Regression loss: 0.61615 | Running loss: 1.27149\n",
            "Epoch: 0 | Iteration: 600 | Classification loss: 0.52636 | Regression loss: 0.64623 | Running loss: 1.25034\n",
            "Epoch: 0 | Iteration: 620 | Classification loss: 0.33939 | Regression loss: 0.52538 | Running loss: 1.22910\n",
            "Epoch: 0 | Iteration: 640 | Classification loss: 0.38281 | Regression loss: 0.73799 | Running loss: 1.20041\n",
            "Epoch: 0 | Iteration: 660 | Classification loss: 0.33522 | Regression loss: 0.52412 | Running loss: 1.17836\n",
            "Epoch: 0 | Iteration: 680 | Classification loss: 0.28971 | Regression loss: 0.41027 | Running loss: 1.15592\n",
            "Epoch: 0 | Iteration: 700 | Classification loss: 0.22194 | Regression loss: 0.33321 | Running loss: 1.13112\n",
            "Epoch: 0 | Iteration: 720 | Classification loss: 0.31390 | Regression loss: 0.59746 | Running loss: 1.11659\n",
            "Epoch: 0 | Iteration: 740 | Classification loss: 0.25331 | Regression loss: 0.53544 | Running loss: 1.10222\n",
            "Epoch: 0 | Iteration: 760 | Classification loss: 0.35647 | Regression loss: 0.58831 | Running loss: 1.09096\n",
            "Epoch: 0 | Iteration: 780 | Classification loss: 0.35973 | Regression loss: 0.56069 | Running loss: 1.08758\n",
            "Epoch: 0 | Iteration: 800 | Classification loss: 0.28198 | Regression loss: 0.54940 | Running loss: 1.07766\n",
            "Epoch: 0 | Iteration: 820 | Classification loss: 0.31171 | Regression loss: 0.50800 | Running loss: 1.06812\n",
            "Epoch: 0 | Iteration: 840 | Classification loss: 0.30001 | Regression loss: 0.48756 | Running loss: 1.06940\n",
            "Epoch: 0 | Iteration: 860 | Classification loss: 0.21807 | Regression loss: 0.44848 | Running loss: 1.05899\n",
            "Epoch: 0 | Iteration: 880 | Classification loss: 0.08114 | Regression loss: 0.34927 | Running loss: 1.03863\n",
            "Epoch: 0 | Iteration: 900 | Classification loss: 0.26102 | Regression loss: 0.74114 | Running loss: 1.02940\n",
            "Epoch: 0 | Iteration: 920 | Classification loss: 0.52781 | Regression loss: 0.61069 | Running loss: 1.01719\n",
            "Epoch: 0 | Iteration: 940 | Classification loss: 0.42522 | Regression loss: 0.48913 | Running loss: 1.01118\n",
            "Epoch: 0 | Iteration: 960 | Classification loss: 0.40270 | Regression loss: 0.43231 | Running loss: 1.00341\n",
            "Epoch: 0 | Iteration: 980 | Classification loss: 0.42251 | Regression loss: 0.36188 | Running loss: 0.99089\n",
            "Epoch: 0 | Iteration: 1000 | Classification loss: 0.41913 | Regression loss: 0.62411 | Running loss: 0.98823\n",
            "Epoch: 0 | Iteration: 1020 | Classification loss: 0.38549 | Regression loss: 0.73852 | Running loss: 0.97434\n",
            "Epoch: 0 | Iteration: 1040 | Classification loss: 0.12722 | Regression loss: 0.38726 | Running loss: 0.96549\n",
            "Epoch: 0 | Iteration: 1060 | Classification loss: 0.83738 | Regression loss: 0.36256 | Running loss: 0.95770\n",
            "Epoch: 0 | Iteration: 1080 | Classification loss: 0.31829 | Regression loss: 0.48310 | Running loss: 0.94891\n",
            "Epoch: 0 | Iteration: 1100 | Classification loss: 0.21104 | Regression loss: 0.38681 | Running loss: 0.94170\n",
            "Epoch: 0 | Iteration: 1120 | Classification loss: 0.32837 | Regression loss: 0.58956 | Running loss: 0.93597\n",
            "Epoch: 0 | Iteration: 1140 | Classification loss: 0.27045 | Regression loss: 0.47234 | Running loss: 0.95636\n",
            "Epoch: 0 | Iteration: 1160 | Classification loss: 0.37664 | Regression loss: 0.57683 | Running loss: 0.95250\n",
            "Epoch: 0 | Iteration: 1180 | Classification loss: 0.24344 | Regression loss: 0.33143 | Running loss: 0.94481\n",
            "Epoch: 0 | Iteration: 1200 | Classification loss: 0.28809 | Regression loss: 0.62796 | Running loss: 0.94671\n",
            "Epoch: 0 | Iteration: 1220 | Classification loss: 0.34393 | Regression loss: 0.59043 | Running loss: 0.94174\n",
            "Epoch: 0 | Iteration: 1240 | Classification loss: 0.16572 | Regression loss: 0.45762 | Running loss: 0.93536\n",
            "Epoch: 0 | Iteration: 1260 | Classification loss: 0.34080 | Regression loss: 0.58685 | Running loss: 0.92988\n",
            "Epoch: 0 | Iteration: 1280 | Classification loss: 0.12102 | Regression loss: 0.48634 | Running loss: 0.91221\n",
            "Epoch: 0 | Iteration: 1300 | Classification loss: 0.32045 | Regression loss: 0.57998 | Running loss: 0.90932\n",
            "Epoch: 0 | Iteration: 1320 | Classification loss: 0.06638 | Regression loss: 0.53540 | Running loss: 0.90671\n",
            "Epoch: 0 | Iteration: 1340 | Classification loss: 0.11858 | Regression loss: 0.45266 | Running loss: 0.90060\n",
            "Epoch: 0 | Iteration: 1360 | Classification loss: 0.46124 | Regression loss: 0.59132 | Running loss: 0.90203\n",
            "Epoch: 0 | Iteration: 1380 | Classification loss: 0.28341 | Regression loss: 0.68373 | Running loss: 0.90274\n",
            "Epoch: 0 | Iteration: 1400 | Classification loss: 0.43249 | Regression loss: 0.63601 | Running loss: 0.90203\n",
            "Epoch: 0 | Iteration: 1420 | Classification loss: 0.26791 | Regression loss: 0.53929 | Running loss: 0.89568\n",
            "Epoch: 0 | Iteration: 1440 | Classification loss: 0.36224 | Regression loss: 0.53331 | Running loss: 0.88697\n",
            "Epoch: 0 | Iteration: 1460 | Classification loss: 0.39581 | Regression loss: 0.67791 | Running loss: 0.89011\n",
            "Epoch: 0 | Iteration: 1480 | Classification loss: 0.40821 | Regression loss: 0.57216 | Running loss: 0.89438\n",
            "Epoch: 0 | Iteration: 1500 | Classification loss: 0.44978 | Regression loss: 0.44379 | Running loss: 0.88751\n",
            "Epoch: 0 | Iteration: 1520 | Classification loss: 0.27393 | Regression loss: 0.47539 | Running loss: 0.91317\n",
            "Epoch: 0 | Iteration: 1540 | Classification loss: 0.37031 | Regression loss: 0.46279 | Running loss: 0.90811\n",
            "Epoch: 0 | Iteration: 1560 | Classification loss: 0.51271 | Regression loss: 0.79051 | Running loss: 0.90469\n",
            "Epoch: 0 | Iteration: 1580 | Classification loss: 0.23425 | Regression loss: 0.45151 | Running loss: 0.90435\n",
            "Epoch: 0 | Iteration: 1600 | Classification loss: 0.20156 | Regression loss: 0.55726 | Running loss: 0.90259\n",
            "Epoch: 0 | Iteration: 1620 | Classification loss: 0.27690 | Regression loss: 0.45858 | Running loss: 0.90184\n",
            "Epoch: 0 | Iteration: 1640 | Classification loss: 0.63647 | Regression loss: 0.83803 | Running loss: 0.87732\n",
            "Epoch: 0 | Iteration: 1660 | Classification loss: 0.19032 | Regression loss: 0.37438 | Running loss: 0.87493\n",
            "Epoch: 0 | Iteration: 1680 | Classification loss: 0.28303 | Regression loss: 0.47876 | Running loss: 0.87037\n",
            "Epoch: 1 | Iteration: 0 | Classification loss: 0.43321 | Regression loss: 0.79197 | Running loss: 0.86794\n",
            "Epoch: 1 | Iteration: 20 | Classification loss: 0.28124 | Regression loss: 0.46289 | Running loss: 0.87121\n",
            "Epoch: 1 | Iteration: 40 | Classification loss: 0.23243 | Regression loss: 0.47411 | Running loss: 0.87004\n",
            "Epoch: 1 | Iteration: 60 | Classification loss: 0.16054 | Regression loss: 0.28946 | Running loss: 0.86518\n",
            "Epoch: 1 | Iteration: 80 | Classification loss: 0.37511 | Regression loss: 0.59324 | Running loss: 0.85780\n",
            "Epoch: 1 | Iteration: 100 | Classification loss: 0.17202 | Regression loss: 0.37309 | Running loss: 0.85384\n",
            "Epoch: 1 | Iteration: 120 | Classification loss: 0.09150 | Regression loss: 0.34716 | Running loss: 0.85153\n",
            "Epoch: 1 | Iteration: 140 | Classification loss: 0.24574 | Regression loss: 0.50477 | Running loss: 0.84985\n",
            "Epoch: 1 | Iteration: 160 | Classification loss: 0.49321 | Regression loss: 0.63181 | Running loss: 0.84535\n",
            "Epoch: 1 | Iteration: 180 | Classification loss: 0.26891 | Regression loss: 0.42574 | Running loss: 0.84257\n",
            "Epoch: 1 | Iteration: 200 | Classification loss: 0.14248 | Regression loss: 0.34558 | Running loss: 0.83817\n",
            "Epoch: 1 | Iteration: 220 | Classification loss: 0.14750 | Regression loss: 0.34385 | Running loss: 0.83388\n",
            "Epoch: 1 | Iteration: 240 | Classification loss: 0.27812 | Regression loss: 0.55091 | Running loss: 0.83679\n",
            "Epoch: 1 | Iteration: 260 | Classification loss: 0.35854 | Regression loss: 0.50972 | Running loss: 0.82830\n",
            "Epoch: 1 | Iteration: 280 | Classification loss: 0.36088 | Regression loss: 0.13605 | Running loss: 0.81810\n",
            "Epoch: 1 | Iteration: 300 | Classification loss: 0.28877 | Regression loss: 0.55283 | Running loss: 0.82161\n",
            "Epoch: 1 | Iteration: 320 | Classification loss: 0.04399 | Regression loss: 0.20412 | Running loss: 0.79645\n",
            "Epoch: 1 | Iteration: 340 | Classification loss: 0.16295 | Regression loss: 0.55189 | Running loss: 0.79468\n"
          ]
        },
        {
          "output_type": "error",
          "ename": "KeyboardInterrupt",
          "evalue": "ignored",
          "traceback": [
            "\u001b[0;31m---------------------------------------------------------------------------\u001b[0m",
            "\u001b[0;31mKeyboardInterrupt\u001b[0m                         Traceback (most recent call last)",
            "\u001b[0;32m<ipython-input-23-d7a4f9a06e38>\u001b[0m in \u001b[0;36m<module>\u001b[0;34m()\u001b[0m\n\u001b[0;32m----> 1\u001b[0;31m \u001b[0mgtf\u001b[0m\u001b[0;34m.\u001b[0m\u001b[0mTrain\u001b[0m\u001b[0;34m(\u001b[0m\u001b[0mnum_epochs\u001b[0m\u001b[0;34m=\u001b[0m\u001b[0;36m17\u001b[0m\u001b[0;34m,\u001b[0m \u001b[0moutput_model_name\u001b[0m\u001b[0;34m=\u001b[0m\u001b[0;34m\"final_model.pt\"\u001b[0m\u001b[0;34m)\u001b[0m\u001b[0;34m;\u001b[0m\u001b[0;34m\u001b[0m\u001b[0;34m\u001b[0m\u001b[0m\n\u001b[0m",
            "\u001b[0;32m/content/Monk_Object_Detection/5_pytorch_retinanet/lib/train_detector.py\u001b[0m in \u001b[0;36mTrain\u001b[0;34m(self, num_epochs, output_model_name)\u001b[0m\n\u001b[1;32m    312\u001b[0m                     \u001b[0mloss\u001b[0m\u001b[0;34m.\u001b[0m\u001b[0mbackward\u001b[0m\u001b[0;34m(\u001b[0m\u001b[0;34m)\u001b[0m\u001b[0;34m\u001b[0m\u001b[0;34m\u001b[0m\u001b[0m\n\u001b[1;32m    313\u001b[0m \u001b[0;34m\u001b[0m\u001b[0m\n\u001b[0;32m--> 314\u001b[0;31m                     \u001b[0mtorch\u001b[0m\u001b[0;34m.\u001b[0m\u001b[0mnn\u001b[0m\u001b[0;34m.\u001b[0m\u001b[0mutils\u001b[0m\u001b[0;34m.\u001b[0m\u001b[0mclip_grad_norm_\u001b[0m\u001b[0;34m(\u001b[0m\u001b[0mself\u001b[0m\u001b[0;34m.\u001b[0m\u001b[0msystem_dict\u001b[0m\u001b[0;34m[\u001b[0m\u001b[0;34m\"local\"\u001b[0m\u001b[0;34m]\u001b[0m\u001b[0;34m[\u001b[0m\u001b[0;34m\"model\"\u001b[0m\u001b[0;34m]\u001b[0m\u001b[0;34m.\u001b[0m\u001b[0mparameters\u001b[0m\u001b[0;34m(\u001b[0m\u001b[0;34m)\u001b[0m\u001b[0;34m,\u001b[0m \u001b[0;36m0.1\u001b[0m\u001b[0;34m)\u001b[0m\u001b[0;34m\u001b[0m\u001b[0;34m\u001b[0m\u001b[0m\n\u001b[0m\u001b[1;32m    315\u001b[0m \u001b[0;34m\u001b[0m\u001b[0m\n\u001b[1;32m    316\u001b[0m                     \u001b[0mself\u001b[0m\u001b[0;34m.\u001b[0m\u001b[0msystem_dict\u001b[0m\u001b[0;34m[\u001b[0m\u001b[0;34m\"local\"\u001b[0m\u001b[0;34m]\u001b[0m\u001b[0;34m[\u001b[0m\u001b[0;34m\"optimizer\"\u001b[0m\u001b[0;34m]\u001b[0m\u001b[0;34m.\u001b[0m\u001b[0mstep\u001b[0m\u001b[0;34m(\u001b[0m\u001b[0;34m)\u001b[0m\u001b[0;34m\u001b[0m\u001b[0;34m\u001b[0m\u001b[0m\n",
            "\u001b[0;32m/usr/local/lib/python3.7/dist-packages/torch/nn/utils/clip_grad.py\u001b[0m in \u001b[0;36mclip_grad_norm_\u001b[0;34m(parameters, max_norm, norm_type, error_if_nonfinite)\u001b[0m\n\u001b[1;32m     40\u001b[0m         \u001b[0mtotal_norm\u001b[0m \u001b[0;34m=\u001b[0m \u001b[0mnorms\u001b[0m\u001b[0;34m[\u001b[0m\u001b[0;36m0\u001b[0m\u001b[0;34m]\u001b[0m \u001b[0;32mif\u001b[0m \u001b[0mlen\u001b[0m\u001b[0;34m(\u001b[0m\u001b[0mnorms\u001b[0m\u001b[0;34m)\u001b[0m \u001b[0;34m==\u001b[0m \u001b[0;36m1\u001b[0m \u001b[0;32melse\u001b[0m \u001b[0mtorch\u001b[0m\u001b[0;34m.\u001b[0m\u001b[0mmax\u001b[0m\u001b[0;34m(\u001b[0m\u001b[0mtorch\u001b[0m\u001b[0;34m.\u001b[0m\u001b[0mstack\u001b[0m\u001b[0;34m(\u001b[0m\u001b[0mnorms\u001b[0m\u001b[0;34m)\u001b[0m\u001b[0;34m)\u001b[0m\u001b[0;34m\u001b[0m\u001b[0;34m\u001b[0m\u001b[0m\n\u001b[1;32m     41\u001b[0m     \u001b[0;32melse\u001b[0m\u001b[0;34m:\u001b[0m\u001b[0;34m\u001b[0m\u001b[0;34m\u001b[0m\u001b[0m\n\u001b[0;32m---> 42\u001b[0;31m         \u001b[0mtotal_norm\u001b[0m \u001b[0;34m=\u001b[0m \u001b[0mtorch\u001b[0m\u001b[0;34m.\u001b[0m\u001b[0mnorm\u001b[0m\u001b[0;34m(\u001b[0m\u001b[0mtorch\u001b[0m\u001b[0;34m.\u001b[0m\u001b[0mstack\u001b[0m\u001b[0;34m(\u001b[0m\u001b[0;34m[\u001b[0m\u001b[0mtorch\u001b[0m\u001b[0;34m.\u001b[0m\u001b[0mnorm\u001b[0m\u001b[0;34m(\u001b[0m\u001b[0mp\u001b[0m\u001b[0;34m.\u001b[0m\u001b[0mgrad\u001b[0m\u001b[0;34m.\u001b[0m\u001b[0mdetach\u001b[0m\u001b[0;34m(\u001b[0m\u001b[0;34m)\u001b[0m\u001b[0;34m,\u001b[0m \u001b[0mnorm_type\u001b[0m\u001b[0;34m)\u001b[0m\u001b[0;34m.\u001b[0m\u001b[0mto\u001b[0m\u001b[0;34m(\u001b[0m\u001b[0mdevice\u001b[0m\u001b[0;34m)\u001b[0m \u001b[0;32mfor\u001b[0m \u001b[0mp\u001b[0m \u001b[0;32min\u001b[0m \u001b[0mparameters\u001b[0m\u001b[0;34m]\u001b[0m\u001b[0;34m)\u001b[0m\u001b[0;34m,\u001b[0m \u001b[0mnorm_type\u001b[0m\u001b[0;34m)\u001b[0m\u001b[0;34m\u001b[0m\u001b[0;34m\u001b[0m\u001b[0m\n\u001b[0m\u001b[1;32m     43\u001b[0m     \u001b[0;32mif\u001b[0m \u001b[0mtotal_norm\u001b[0m\u001b[0;34m.\u001b[0m\u001b[0misnan\u001b[0m\u001b[0;34m(\u001b[0m\u001b[0;34m)\u001b[0m \u001b[0;32mor\u001b[0m \u001b[0mtotal_norm\u001b[0m\u001b[0;34m.\u001b[0m\u001b[0misinf\u001b[0m\u001b[0;34m(\u001b[0m\u001b[0;34m)\u001b[0m\u001b[0;34m:\u001b[0m\u001b[0;34m\u001b[0m\u001b[0;34m\u001b[0m\u001b[0m\n\u001b[1;32m     44\u001b[0m         \u001b[0;32mif\u001b[0m \u001b[0merror_if_nonfinite\u001b[0m\u001b[0;34m:\u001b[0m\u001b[0;34m\u001b[0m\u001b[0;34m\u001b[0m\u001b[0m\n",
            "\u001b[0;32m/usr/local/lib/python3.7/dist-packages/torch/nn/utils/clip_grad.py\u001b[0m in \u001b[0;36m<listcomp>\u001b[0;34m(.0)\u001b[0m\n\u001b[1;32m     40\u001b[0m         \u001b[0mtotal_norm\u001b[0m \u001b[0;34m=\u001b[0m \u001b[0mnorms\u001b[0m\u001b[0;34m[\u001b[0m\u001b[0;36m0\u001b[0m\u001b[0;34m]\u001b[0m \u001b[0;32mif\u001b[0m \u001b[0mlen\u001b[0m\u001b[0;34m(\u001b[0m\u001b[0mnorms\u001b[0m\u001b[0;34m)\u001b[0m \u001b[0;34m==\u001b[0m \u001b[0;36m1\u001b[0m \u001b[0;32melse\u001b[0m \u001b[0mtorch\u001b[0m\u001b[0;34m.\u001b[0m\u001b[0mmax\u001b[0m\u001b[0;34m(\u001b[0m\u001b[0mtorch\u001b[0m\u001b[0;34m.\u001b[0m\u001b[0mstack\u001b[0m\u001b[0;34m(\u001b[0m\u001b[0mnorms\u001b[0m\u001b[0;34m)\u001b[0m\u001b[0;34m)\u001b[0m\u001b[0;34m\u001b[0m\u001b[0;34m\u001b[0m\u001b[0m\n\u001b[1;32m     41\u001b[0m     \u001b[0;32melse\u001b[0m\u001b[0;34m:\u001b[0m\u001b[0;34m\u001b[0m\u001b[0;34m\u001b[0m\u001b[0m\n\u001b[0;32m---> 42\u001b[0;31m         \u001b[0mtotal_norm\u001b[0m \u001b[0;34m=\u001b[0m \u001b[0mtorch\u001b[0m\u001b[0;34m.\u001b[0m\u001b[0mnorm\u001b[0m\u001b[0;34m(\u001b[0m\u001b[0mtorch\u001b[0m\u001b[0;34m.\u001b[0m\u001b[0mstack\u001b[0m\u001b[0;34m(\u001b[0m\u001b[0;34m[\u001b[0m\u001b[0mtorch\u001b[0m\u001b[0;34m.\u001b[0m\u001b[0mnorm\u001b[0m\u001b[0;34m(\u001b[0m\u001b[0mp\u001b[0m\u001b[0;34m.\u001b[0m\u001b[0mgrad\u001b[0m\u001b[0;34m.\u001b[0m\u001b[0mdetach\u001b[0m\u001b[0;34m(\u001b[0m\u001b[0;34m)\u001b[0m\u001b[0;34m,\u001b[0m \u001b[0mnorm_type\u001b[0m\u001b[0;34m)\u001b[0m\u001b[0;34m.\u001b[0m\u001b[0mto\u001b[0m\u001b[0;34m(\u001b[0m\u001b[0mdevice\u001b[0m\u001b[0;34m)\u001b[0m \u001b[0;32mfor\u001b[0m \u001b[0mp\u001b[0m \u001b[0;32min\u001b[0m \u001b[0mparameters\u001b[0m\u001b[0;34m]\u001b[0m\u001b[0;34m)\u001b[0m\u001b[0;34m,\u001b[0m \u001b[0mnorm_type\u001b[0m\u001b[0;34m)\u001b[0m\u001b[0;34m\u001b[0m\u001b[0;34m\u001b[0m\u001b[0m\n\u001b[0m\u001b[1;32m     43\u001b[0m     \u001b[0;32mif\u001b[0m \u001b[0mtotal_norm\u001b[0m\u001b[0;34m.\u001b[0m\u001b[0misnan\u001b[0m\u001b[0;34m(\u001b[0m\u001b[0;34m)\u001b[0m \u001b[0;32mor\u001b[0m \u001b[0mtotal_norm\u001b[0m\u001b[0;34m.\u001b[0m\u001b[0misinf\u001b[0m\u001b[0;34m(\u001b[0m\u001b[0;34m)\u001b[0m\u001b[0;34m:\u001b[0m\u001b[0;34m\u001b[0m\u001b[0;34m\u001b[0m\u001b[0m\n\u001b[1;32m     44\u001b[0m         \u001b[0;32mif\u001b[0m \u001b[0merror_if_nonfinite\u001b[0m\u001b[0;34m:\u001b[0m\u001b[0;34m\u001b[0m\u001b[0;34m\u001b[0m\u001b[0m\n",
            "\u001b[0;32m/usr/local/lib/python3.7/dist-packages/torch/functional.py\u001b[0m in \u001b[0;36mnorm\u001b[0;34m(input, p, dim, keepdim, out, dtype)\u001b[0m\n\u001b[1;32m   1310\u001b[0m         \u001b[0;32mif\u001b[0m \u001b[0;32mnot\u001b[0m \u001b[0misinstance\u001b[0m\u001b[0;34m(\u001b[0m\u001b[0mp\u001b[0m\u001b[0;34m,\u001b[0m \u001b[0mstr\u001b[0m\u001b[0;34m)\u001b[0m\u001b[0;34m:\u001b[0m\u001b[0;34m\u001b[0m\u001b[0;34m\u001b[0m\u001b[0m\n\u001b[1;32m   1311\u001b[0m             \u001b[0m_dim\u001b[0m \u001b[0;34m=\u001b[0m \u001b[0;34m[\u001b[0m\u001b[0mi\u001b[0m \u001b[0;32mfor\u001b[0m \u001b[0mi\u001b[0m \u001b[0;32min\u001b[0m \u001b[0mrange\u001b[0m\u001b[0;34m(\u001b[0m\u001b[0mndim\u001b[0m\u001b[0;34m)\u001b[0m\u001b[0;34m]\u001b[0m  \u001b[0;31m# noqa: C416 TODO: rewrite as list(range(m))\u001b[0m\u001b[0;34m\u001b[0m\u001b[0;34m\u001b[0m\u001b[0m\n\u001b[0;32m-> 1312\u001b[0;31m             \u001b[0;32mreturn\u001b[0m \u001b[0m_VF\u001b[0m\u001b[0;34m.\u001b[0m\u001b[0mnorm\u001b[0m\u001b[0;34m(\u001b[0m\u001b[0minput\u001b[0m\u001b[0;34m,\u001b[0m \u001b[0mp\u001b[0m\u001b[0;34m,\u001b[0m \u001b[0mdim\u001b[0m\u001b[0;34m=\u001b[0m\u001b[0m_dim\u001b[0m\u001b[0;34m,\u001b[0m \u001b[0mkeepdim\u001b[0m\u001b[0;34m=\u001b[0m\u001b[0mkeepdim\u001b[0m\u001b[0;34m)\u001b[0m  \u001b[0;31m# type: ignore[attr-defined]\u001b[0m\u001b[0;34m\u001b[0m\u001b[0;34m\u001b[0m\u001b[0m\n\u001b[0m\u001b[1;32m   1313\u001b[0m \u001b[0;34m\u001b[0m\u001b[0m\n\u001b[1;32m   1314\u001b[0m     \u001b[0;31m# TODO: when https://github.com/pytorch/pytorch/issues/33782 is fixed\u001b[0m\u001b[0;34m\u001b[0m\u001b[0;34m\u001b[0m\u001b[0;34m\u001b[0m\u001b[0m\n",
            "\u001b[0;31mKeyboardInterrupt\u001b[0m: "
          ]
        }
      ]
    },
    {
      "cell_type": "markdown",
      "metadata": {
        "id": "vTAxT230Coo7"
      },
      "source": [
        "# We are Testing now through our images"
      ]
    },
    {
      "cell_type": "code",
      "metadata": {
        "id": "ztRip_3DCoo7"
      },
      "source": [
        "import os\n",
        "import sys\n",
        "sys.path.append(\"Monk_Object_Detection/5_pytorch_retinanet/lib/\");"
      ],
      "execution_count": null,
      "outputs": []
    },
    {
      "cell_type": "code",
      "metadata": {
        "id": "HJEEo07tCoo8"
      },
      "source": [
        "from infer_detector import Infer"
      ],
      "execution_count": null,
      "outputs": []
    },
    {
      "cell_type": "code",
      "metadata": {
        "id": "yefPYzynCoo8"
      },
      "source": [
        ""
      ],
      "execution_count": null,
      "outputs": []
    },
    {
      "cell_type": "code",
      "metadata": {
        "id": "SFT16IJQCoo8"
      },
      "source": [
        "gtf = Infer();"
      ],
      "execution_count": null,
      "outputs": []
    },
    {
      "cell_type": "code",
      "metadata": {
        "id": "Wt-PZqOoCoo8"
      },
      "source": [
        "gtf.Model(model_path=\"final_model.pt\");"
      ],
      "execution_count": null,
      "outputs": []
    },
    {
      "cell_type": "code",
      "metadata": {
        "id": "IibtVhnVCoo9"
      },
      "source": [
        ""
      ],
      "execution_count": null,
      "outputs": []
    },
    {
      "cell_type": "code",
      "metadata": {
        "id": "Uoz_exJzCoo9"
      },
      "source": [
        "f = open(\"billboard/annotations/classes.txt\", 'r');\n",
        "class_list = f.readlines();\n",
        "f.close();\n",
        "for i in range(len(class_list)):\n",
        "    class_list[i] = class_list[i][:-1]"
      ],
      "execution_count": null,
      "outputs": []
    },
    {
      "cell_type": "code",
      "metadata": {
        "id": "hLcXOkMVCoo9"
      },
      "source": [
        ""
      ],
      "execution_count": null,
      "outputs": []
    },
    {
      "cell_type": "code",
      "metadata": {
        "id": "KaRjZlZYCoo9"
      },
      "source": [
        ""
      ],
      "execution_count": null,
      "outputs": []
    },
    {
      "cell_type": "code",
      "metadata": {
        "id": "5EfJymjECoo-"
      },
      "source": [
        ""
      ],
      "execution_count": null,
      "outputs": []
    },
    {
      "cell_type": "code",
      "metadata": {
        "id": "mvCh7vRDCoo-"
      },
      "source": [
        "img_path = \"Monk_Object_Detection/example_notebooks/sample_dataset/billboard_test/img1.jpg\";\n",
        "scores, labels, boxes = gtf.Predict(img_path, class_list, vis_threshold=0.4);\n",
        "from IPython.display import Image\n",
        "Image(filename='output.jpg') "
      ],
      "execution_count": null,
      "outputs": []
    },
    {
      "cell_type": "code",
      "metadata": {
        "id": "iQvokwn3Coo-"
      },
      "source": [
        ""
      ],
      "execution_count": null,
      "outputs": []
    },
    {
      "cell_type": "code",
      "metadata": {
        "id": "w1dxSkNiCoo_"
      },
      "source": [
        ""
      ],
      "execution_count": null,
      "outputs": []
    },
    {
      "cell_type": "code",
      "metadata": {
        "id": "sYw8x7UbCoo_"
      },
      "source": [
        ""
      ],
      "execution_count": null,
      "outputs": []
    },
    {
      "cell_type": "code",
      "metadata": {
        "id": "dkEXEynQCoo_"
      },
      "source": [
        "img_path = \"Monk_Object_Detection/example_notebooks/sample_dataset/billboard_test/img2.jpeg\";\n",
        "scores, labels, boxes = gtf.Predict(img_path, class_list, vis_threshold=0.4);\n",
        "from IPython.display import Image\n",
        "Image(filename='output.jpg') "
      ],
      "execution_count": null,
      "outputs": []
    },
    {
      "cell_type": "code",
      "metadata": {
        "id": "ScJRib4PCoo_"
      },
      "source": [
        ""
      ],
      "execution_count": null,
      "outputs": []
    },
    {
      "cell_type": "code",
      "metadata": {
        "id": "ZBlQd8rfCopA"
      },
      "source": [
        ""
      ],
      "execution_count": null,
      "outputs": []
    },
    {
      "cell_type": "code",
      "metadata": {
        "id": "ErQVTu2jCopA"
      },
      "source": [
        ""
      ],
      "execution_count": null,
      "outputs": []
    },
    {
      "cell_type": "code",
      "metadata": {
        "id": "o8sdQlxUCopA"
      },
      "source": [
        ""
      ],
      "execution_count": null,
      "outputs": []
    },
    {
      "cell_type": "code",
      "metadata": {
        "id": "wqh-uX7BCopA"
      },
      "source": [
        "img_path = \"Monk_Object_Detection/example_notebooks/sample_dataset/billboard_test/img3.jpeg\";\n",
        "scores, labels, boxes = gtf.Predict(img_path, class_list, vis_threshold=0.4);\n",
        "from IPython.display import Image\n",
        "Image(filename='output.jpg') "
      ],
      "execution_count": null,
      "outputs": []
    },
    {
      "cell_type": "code",
      "metadata": {
        "id": "AjGMD9csCopB"
      },
      "source": [
        ""
      ],
      "execution_count": null,
      "outputs": []
    },
    {
      "cell_type": "code",
      "metadata": {
        "id": "Bblfo87mCopB"
      },
      "source": [
        ""
      ],
      "execution_count": null,
      "outputs": []
    },
    {
      "cell_type": "code",
      "metadata": {
        "id": "YuNUIQsRCopB"
      },
      "source": [
        ""
      ],
      "execution_count": null,
      "outputs": []
    },
    {
      "cell_type": "code",
      "metadata": {
        "id": "nZvAoanTCopB"
      },
      "source": [
        ""
      ],
      "execution_count": null,
      "outputs": []
    },
    {
      "cell_type": "code",
      "metadata": {
        "id": "FOmhZ4dcCopB"
      },
      "source": [
        "img_path = \"Monk_Object_Detection/example_notebooks/sample_dataset/billboard_test/img4.jpeg\";\n",
        "scores, labels, boxes = gtf.Predict(img_path, class_list, vis_threshold=0.4);\n",
        "from IPython.display import Image\n",
        "Image(filename='output.jpg') "
      ],
      "execution_count": null,
      "outputs": []
    },
    {
      "cell_type": "code",
      "metadata": {
        "id": "zPjIOxPYCopC"
      },
      "source": [
        ""
      ],
      "execution_count": null,
      "outputs": []
    },
    {
      "cell_type": "code",
      "metadata": {
        "id": "us4AJ-XTCopC"
      },
      "source": [
        ""
      ],
      "execution_count": null,
      "outputs": []
    },
    {
      "cell_type": "code",
      "metadata": {
        "id": "02pyhZ7oCopC"
      },
      "source": [
        ""
      ],
      "execution_count": null,
      "outputs": []
    },
    {
      "cell_type": "code",
      "metadata": {
        "id": "Osl1BzufCopC"
      },
      "source": [
        ""
      ],
      "execution_count": null,
      "outputs": []
    },
    {
      "cell_type": "code",
      "metadata": {
        "id": "96YxYvBzCopD"
      },
      "source": [
        "img_path = \"Monk_Object_Detection/example_notebooks/sample_dataset/billboard_test/img5.jpeg\";\n",
        "scores, labels, boxes = gtf.Predict(img_path, class_list, vis_threshold=0.2);\n",
        "from IPython.display import Image\n",
        "Image(filename='output.jpg') "
      ],
      "execution_count": null,
      "outputs": []
    },
    {
      "cell_type": "code",
      "metadata": {
        "id": "0Akcgu7WCopD"
      },
      "source": [
        ""
      ],
      "execution_count": null,
      "outputs": []
    },
    {
      "cell_type": "code",
      "metadata": {
        "id": "8fm59xMaCopD"
      },
      "source": [
        ""
      ],
      "execution_count": null,
      "outputs": []
    },
    {
      "cell_type": "code",
      "metadata": {
        "id": "q1oFKqiBCopD"
      },
      "source": [
        ""
      ],
      "execution_count": null,
      "outputs": []
    },
    {
      "cell_type": "code",
      "metadata": {
        "id": "LlLFkvWmCopD"
      },
      "source": [
        "img_path = \"Monk_Object_Detection/example_notebooks/sample_dataset/billboard_test/img6.jpeg\";\n",
        "scores, labels, boxes = gtf.Predict(img_path, class_list, vis_threshold=0.2);\n",
        "from IPython.display import Image\n",
        "Image(filename='output.jpg') "
      ],
      "execution_count": null,
      "outputs": []
    },
    {
      "cell_type": "code",
      "metadata": {
        "id": "-nLG1ndACopE"
      },
      "source": [
        ""
      ],
      "execution_count": null,
      "outputs": []
    },
    {
      "cell_type": "code",
      "metadata": {
        "id": "GpPvu3_XCopE"
      },
      "source": [
        ""
      ],
      "execution_count": null,
      "outputs": []
    },
    {
      "cell_type": "code",
      "metadata": {
        "id": "lyCfrtwLCopE"
      },
      "source": [
        ""
      ],
      "execution_count": null,
      "outputs": []
    },
    {
      "cell_type": "code",
      "metadata": {
        "id": "SK6rv_-TCopE"
      },
      "source": [
        ""
      ],
      "execution_count": null,
      "outputs": []
    },
    {
      "cell_type": "code",
      "metadata": {
        "id": "O1eH_pP9CopE"
      },
      "source": [
        ""
      ],
      "execution_count": null,
      "outputs": []
    },
    {
      "cell_type": "code",
      "metadata": {
        "id": "BqrNraEdCopF"
      },
      "source": [
        "img_path = \"Monk_Object_Detection/example_notebooks/sample_dataset/billboard_test/img7.jpeg\";\n",
        "scores, labels, boxes = gtf.Predict(img_path, class_list, vis_threshold=0.2);\n",
        "from IPython.display import Image\n",
        "Image(filename='output.jpg') "
      ],
      "execution_count": null,
      "outputs": []
    },
    {
      "cell_type": "code",
      "metadata": {
        "id": "Uk-5XJX3CopF"
      },
      "source": [
        ""
      ],
      "execution_count": null,
      "outputs": []
    },
    {
      "cell_type": "code",
      "metadata": {
        "id": "4CkYWaijCopF"
      },
      "source": [
        ""
      ],
      "execution_count": null,
      "outputs": []
    },
    {
      "cell_type": "code",
      "metadata": {
        "id": "mAKNmTGvCopF"
      },
      "source": [
        ""
      ],
      "execution_count": null,
      "outputs": []
    },
    {
      "cell_type": "code",
      "metadata": {
        "id": "jlygmOVXCopG"
      },
      "source": [
        "img_path = \"Monk_Object_Detection/example_notebooks/sample_dataset/billboard_test/img8.jpeg\";\n",
        "scores, labels, boxes = gtf.Predict(img_path, class_list, vis_threshold=0.2);\n",
        "from IPython.display import Image\n",
        "Image(filename='output.jpg') "
      ],
      "execution_count": null,
      "outputs": []
    },
    {
      "cell_type": "code",
      "metadata": {
        "id": "RzxVlKlbCopG"
      },
      "source": [
        ""
      ],
      "execution_count": null,
      "outputs": []
    },
    {
      "cell_type": "code",
      "metadata": {
        "id": "za76rrsgCopG"
      },
      "source": [
        ""
      ],
      "execution_count": null,
      "outputs": []
    },
    {
      "cell_type": "code",
      "metadata": {
        "id": "TxUDIXw2CopH"
      },
      "source": [
        ""
      ],
      "execution_count": null,
      "outputs": []
    },
    {
      "cell_type": "code",
      "metadata": {
        "id": "nzl7RzXJCopH"
      },
      "source": [
        ""
      ],
      "execution_count": null,
      "outputs": []
    },
    {
      "cell_type": "code",
      "metadata": {
        "id": "5D5urZOJCopH"
      },
      "source": [
        "img_path = \"Monk_Object_Detection/example_notebooks/sample_dataset/billboard_test/img9.jpeg\";\n",
        "scores, labels, boxes = gtf.Predict(img_path, class_list, vis_threshold=0.2);\n",
        "from IPython.display import Image\n",
        "Image(filename='output.jpg') "
      ],
      "execution_count": null,
      "outputs": []
    },
    {
      "cell_type": "code",
      "metadata": {
        "id": "oVxvoImZCopH"
      },
      "source": [
        ""
      ],
      "execution_count": null,
      "outputs": []
    },
    {
      "cell_type": "code",
      "metadata": {
        "id": "15G8bQ_zCopH"
      },
      "source": [
        ""
      ],
      "execution_count": null,
      "outputs": []
    },
    {
      "cell_type": "code",
      "metadata": {
        "id": "PZX8bODRCopI"
      },
      "source": [
        ""
      ],
      "execution_count": null,
      "outputs": []
    },
    {
      "cell_type": "code",
      "metadata": {
        "id": "yYO9b2SQCopI"
      },
      "source": [
        ""
      ],
      "execution_count": null,
      "outputs": []
    },
    {
      "cell_type": "code",
      "metadata": {
        "id": "rdbpvEaeCopI"
      },
      "source": [
        "img_path = \"Monk_Object_Detection/example_notebooks/sample_dataset/billboard_test/img10.jpeg\";\n",
        "scores, labels, boxes = gtf.Predict(img_path, class_list, vis_threshold=0.2);\n",
        "from IPython.display import Image\n",
        "Image(filename='output.jpg') "
      ],
      "execution_count": null,
      "outputs": []
    },
    {
      "cell_type": "code",
      "metadata": {
        "id": "pKJkhaK9CopI"
      },
      "source": [
        ""
      ],
      "execution_count": null,
      "outputs": []
    },
    {
      "cell_type": "code",
      "metadata": {
        "id": "jmTR-ICQCopJ"
      },
      "source": [
        ""
      ],
      "execution_count": null,
      "outputs": []
    },
    {
      "cell_type": "code",
      "metadata": {
        "id": "KwvkUgaHCopJ"
      },
      "source": [
        ""
      ],
      "execution_count": null,
      "outputs": []
    },
    {
      "cell_type": "code",
      "metadata": {
        "id": "qtOkknyTCopJ"
      },
      "source": [
        ""
      ],
      "execution_count": null,
      "outputs": []
    },
    {
      "cell_type": "code",
      "metadata": {
        "id": "NocUJ1xJCopJ"
      },
      "source": [
        "img_path = \"Monk_Object_Detection/example_notebooks/sample_dataset/billboard_test/img11.jpeg\";\n",
        "scores, labels, boxes = gtf.Predict(img_path, class_list, vis_threshold=0.2);\n",
        "from IPython.display import Image\n",
        "Image(filename='output.jpg') "
      ],
      "execution_count": null,
      "outputs": []
    },
    {
      "cell_type": "code",
      "metadata": {
        "id": "g8OPnHWCCopJ"
      },
      "source": [
        ""
      ],
      "execution_count": null,
      "outputs": []
    },
    {
      "cell_type": "code",
      "metadata": {
        "id": "ydUXWHnsCopK"
      },
      "source": [
        ""
      ],
      "execution_count": null,
      "outputs": []
    },
    {
      "cell_type": "code",
      "metadata": {
        "id": "8L06Ov_yCopK"
      },
      "source": [
        ""
      ],
      "execution_count": null,
      "outputs": []
    },
    {
      "cell_type": "code",
      "metadata": {
        "id": "ALphutJ-CopK"
      },
      "source": [
        "img_path = \"Monk_Object_Detection/example_notebooks/sample_dataset/billboard_test/img12.jpeg\";\n",
        "scores, labels, boxes = gtf.Predict(img_path, class_list, vis_threshold=0.2);\n",
        "from IPython.display import Image\n",
        "Image(filename='output.jpg') "
      ],
      "execution_count": null,
      "outputs": []
    },
    {
      "cell_type": "code",
      "metadata": {
        "id": "pEUCuQgGCopL"
      },
      "source": [
        ""
      ],
      "execution_count": null,
      "outputs": []
    },
    {
      "cell_type": "code",
      "metadata": {
        "id": "ZTSNg5jACopL"
      },
      "source": [
        ""
      ],
      "execution_count": null,
      "outputs": []
    },
    {
      "cell_type": "code",
      "metadata": {
        "id": "AwKuqfqlCopL"
      },
      "source": [
        ""
      ],
      "execution_count": null,
      "outputs": []
    },
    {
      "cell_type": "code",
      "metadata": {
        "id": "BCAZie5gCopM"
      },
      "source": [
        ""
      ],
      "execution_count": null,
      "outputs": []
    },
    {
      "cell_type": "code",
      "metadata": {
        "id": "8Rx8Dqn6CopM"
      },
      "source": [
        "img_path = \"Monk_Object_Detection/example_notebooks/sample_dataset/billboard_test/img13.jpeg\";\n",
        "scores, labels, boxes = gtf.Predict(img_path, class_list, vis_threshold=0.2);\n",
        "from IPython.display import Image\n",
        "Image(filename='output.jpg') "
      ],
      "execution_count": null,
      "outputs": []
    },
    {
      "cell_type": "code",
      "metadata": {
        "id": "ztk4N_d5CopM"
      },
      "source": [
        ""
      ],
      "execution_count": null,
      "outputs": []
    },
    {
      "cell_type": "code",
      "metadata": {
        "id": "Cgj7IZEKCopN"
      },
      "source": [
        ""
      ],
      "execution_count": null,
      "outputs": []
    },
    {
      "cell_type": "code",
      "metadata": {
        "id": "LEXkV1TrCopN"
      },
      "source": [
        ""
      ],
      "execution_count": null,
      "outputs": []
    },
    {
      "cell_type": "code",
      "metadata": {
        "id": "2QFocXJrCopN"
      },
      "source": [
        ""
      ],
      "execution_count": null,
      "outputs": []
    },
    {
      "cell_type": "code",
      "metadata": {
        "id": "qg_Fw_cpCopN"
      },
      "source": [
        "img_path = \"Monk_Object_Detection/example_notebooks/sample_dataset/billboard_test/img14.jpeg\";\n",
        "scores, labels, boxes = gtf.Predict(img_path, class_list, vis_threshold=0.2);\n",
        "from IPython.display import Image\n",
        "Image(filename='output.jpg') "
      ],
      "execution_count": null,
      "outputs": []
    },
    {
      "cell_type": "code",
      "metadata": {
        "id": "hT1oywTXCopN"
      },
      "source": [
        ""
      ],
      "execution_count": null,
      "outputs": []
    },
    {
      "cell_type": "code",
      "metadata": {
        "id": "ijiZV0yDCopO"
      },
      "source": [
        ""
      ],
      "execution_count": null,
      "outputs": []
    },
    {
      "cell_type": "code",
      "metadata": {
        "id": "aWVSfZnOCopO"
      },
      "source": [
        ""
      ],
      "execution_count": null,
      "outputs": []
    },
    {
      "cell_type": "code",
      "metadata": {
        "id": "Je64BWjBCopO"
      },
      "source": [
        ""
      ],
      "execution_count": null,
      "outputs": []
    },
    {
      "cell_type": "code",
      "metadata": {
        "id": "jLivZ7JnCopO"
      },
      "source": [
        "img_path = \"Monk_Object_Detection/example_notebooks/sample_dataset/billboard_test/img15.jpeg\";\n",
        "scores, labels, boxes = gtf.Predict(img_path, class_list, vis_threshold=0.2);\n",
        "from IPython.display import Image\n",
        "Image(filename='output.jpg') "
      ],
      "execution_count": null,
      "outputs": []
    },
    {
      "cell_type": "code",
      "metadata": {
        "id": "PDWCNF-BCopP"
      },
      "source": [
        ""
      ],
      "execution_count": null,
      "outputs": []
    },
    {
      "cell_type": "code",
      "metadata": {
        "id": "ejUXFINRCopP"
      },
      "source": [
        ""
      ],
      "execution_count": null,
      "outputs": []
    },
    {
      "cell_type": "code",
      "metadata": {
        "id": "quP0PtOwCopP"
      },
      "source": [
        "img_path = \"Monk_Object_Detection/example_notebooks/sample_dataset/billboard_test/img16.jpeg\";\n",
        "scores, labels, boxes = gtf.Predict(img_path, class_list, vis_threshold=0.2);\n",
        "from IPython.display import Image\n",
        "Image(filename='output.jpg') "
      ],
      "execution_count": null,
      "outputs": []
    },
    {
      "cell_type": "code",
      "metadata": {
        "id": "chALDeZHCopQ"
      },
      "source": [
        ""
      ],
      "execution_count": null,
      "outputs": []
    },
    {
      "cell_type": "code",
      "metadata": {
        "id": "w3HRmPx9CopQ"
      },
      "source": [
        ""
      ],
      "execution_count": null,
      "outputs": []
    },
    {
      "cell_type": "code",
      "metadata": {
        "id": "xwwKzbcZCopQ"
      },
      "source": [
        ""
      ],
      "execution_count": null,
      "outputs": []
    },
    {
      "cell_type": "code",
      "metadata": {
        "id": "BO647lfyCopQ"
      },
      "source": [
        "img_path = \"Monk_Object_Detection/example_notebooks/sample_dataset/billboard_test/img17.jpeg\";\n",
        "scores, labels, boxes = gtf.Predict(img_path, class_list, vis_threshold=0.4);\n",
        "from IPython.display import Image\n",
        "Image(filename='output.jpg') "
      ],
      "execution_count": null,
      "outputs": []
    },
    {
      "cell_type": "code",
      "metadata": {
        "id": "F8VupSAjCopR"
      },
      "source": [
        ""
      ],
      "execution_count": null,
      "outputs": []
    },
    {
      "cell_type": "code",
      "metadata": {
        "id": "Sh6TjUaLCopR"
      },
      "source": [
        ""
      ],
      "execution_count": null,
      "outputs": []
    },
    {
      "cell_type": "code",
      "metadata": {
        "id": "vcP0AbgLCopR"
      },
      "source": [
        ""
      ],
      "execution_count": null,
      "outputs": []
    },
    {
      "cell_type": "code",
      "metadata": {
        "id": "Jb1AWJsmCopR"
      },
      "source": [
        "img_path = \"Monk_Object_Detection/example_notebooks/sample_dataset/billboard_test/img18.jpeg\";\n",
        "scores, labels, boxes = gtf.Predict(img_path, class_list, vis_threshold=0.4);\n",
        "from IPython.display import Image\n",
        "Image(filename='output.jpg') "
      ],
      "execution_count": null,
      "outputs": []
    },
    {
      "cell_type": "code",
      "metadata": {
        "id": "CFxe1wB6CopS"
      },
      "source": [
        ""
      ],
      "execution_count": null,
      "outputs": []
    },
    {
      "cell_type": "code",
      "metadata": {
        "id": "mzzxndDnCopS"
      },
      "source": [
        ""
      ],
      "execution_count": null,
      "outputs": []
    },
    {
      "cell_type": "code",
      "metadata": {
        "id": "S5H6pkRKCopS"
      },
      "source": [
        ""
      ],
      "execution_count": null,
      "outputs": []
    },
    {
      "cell_type": "code",
      "metadata": {
        "id": "ZWpJc1ElCopS"
      },
      "source": [
        "img_path = \"Monk_Object_Detection/example_notebooks/sample_dataset/billboard_test/img19.jpeg\";\n",
        "scores, labels, boxes = gtf.Predict(img_path, class_list, vis_threshold=0.5);\n",
        "from IPython.display import Image\n",
        "Image(filename='output.jpg') "
      ],
      "execution_count": null,
      "outputs": []
    },
    {
      "cell_type": "code",
      "metadata": {
        "id": "FiN-yc8vCopT"
      },
      "source": [
        ""
      ],
      "execution_count": null,
      "outputs": []
    },
    {
      "cell_type": "code",
      "metadata": {
        "id": "D-mEgUR2CopT"
      },
      "source": [
        ""
      ],
      "execution_count": null,
      "outputs": []
    },
    {
      "cell_type": "code",
      "metadata": {
        "id": "8DBCTbiSCopT"
      },
      "source": [
        "img_path = \"Monk_Object_Detection/example_notebooks/sample_dataset/billboard_test/img20.jpeg\";\n",
        "scores, labels, boxes = gtf.Predict(img_path, class_list, vis_threshold=0.4);\n",
        "from IPython.display import Image\n",
        "Image(filename='output.jpg') "
      ],
      "execution_count": null,
      "outputs": []
    },
    {
      "cell_type": "code",
      "metadata": {
        "id": "eh4--fdrCopU"
      },
      "source": [
        ""
      ],
      "execution_count": null,
      "outputs": []
    },
    {
      "cell_type": "code",
      "metadata": {
        "id": "byPalKFlCopV"
      },
      "source": [
        ""
      ],
      "execution_count": null,
      "outputs": []
    }
  ]
}